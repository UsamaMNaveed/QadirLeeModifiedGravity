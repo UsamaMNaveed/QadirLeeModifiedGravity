{
 "cells": [
  {
   "cell_type": "code",
   "execution_count": 1,
   "id": "cb06ce7d-690f-40e5-95a3-5b518c77d0e3",
   "metadata": {},
   "outputs": [],
   "source": [
    "import scipy as sp\n",
    "from scipy.integrate import odeint\n",
    "from scipy.integrate import quad\n",
    "from scipy.integrate import cumulative_trapezoid\n",
    "from scipy.integrate import solve_ivp\n",
    "from scipy.misc import derivative\n",
    "from scipy.interpolate import interp1d\n",
    "from scipy.optimize import fsolve, root_scalar\n",
    "\n",
    "import sympy as smp\n",
    "from sympy import symbols, Eq, solve, exp, sqrt, latex, log, integrate, Function, nsolve, srepr, parse_expr, Piecewise, plot, preorder_traversal, collect\n",
    "import math\n",
    "\n",
    "import numpy as np\n",
    "import pandas as pd\n",
    "\n",
    "import pickle\n",
    "import matplotlib.pyplot as plt\n",
    "from IPython.display import display\n",
    "\n",
    "from datetime import datetime"
   ]
  },
  {
   "cell_type": "markdown",
   "id": "4f7ae8a7-c48a-47a4-9449-6ed4df4b020e",
   "metadata": {},
   "source": [
    "# Loading Symbols"
   ]
  },
  {
   "cell_type": "code",
   "execution_count": 2,
   "id": "5fc6c6c1-b2b2-4304-920c-206e6abd0ddb",
   "metadata": {},
   "outputs": [],
   "source": [
    "lambda_ = symbols('lambda')\n",
    "rho, v_tg, r,c,nu,kappa,Mu,G,Z,rs,re = symbols('rho v_tg r c nu kappa Mu G zeta r_s r_e')\n",
    "mu = Function('mu')(r)\n",
    "M = Function('M')(r)"
   ]
  },
  {
   "cell_type": "markdown",
   "id": "5e33611b-b0e7-4a3e-bbad-c8547934f6af",
   "metadata": {},
   "source": [
    "# Solve For Lambda and mu from V Analytically "
   ]
  },
  {
   "cell_type": "code",
   "execution_count": 4,
   "id": "19fea07a-b146-4c35-a701-ac7b043dca71",
   "metadata": {},
   "outputs": [
    {
     "data": {
      "text/latex": [
       "$\\displaystyle v_{tg}^{2} = \\frac{1 - \\sqrt{- 2 c^{4} \\lambda \\rho^{2} \\left(e^{\\mu{\\left(r \\right)}} - 1\\right) + 1}}{2 c^{2} \\lambda \\rho^{2}}$"
      ],
      "text/plain": [
       "Eq(v_tg**2, (1 - sqrt(-2*c**4*lambda*rho**2*(exp(mu(r)) - 1) + 1))/(2*c**2*lambda*rho**2))"
      ]
     },
     "execution_count": 4,
     "metadata": {},
     "output_type": "execute_result"
    }
   ],
   "source": [
    "equation = Eq(v_tg**2 , (1 - sqrt(1 - 2 * lambda_ * rho**2 *c**4* (exp(mu) - 1)) )/ (2 * lambda_ * rho**2*c**2))\n",
    "equation"
   ]
  },
  {
   "cell_type": "code",
   "execution_count": 5,
   "id": "1909e6da-4018-440b-b8b7-56318552ce78",
   "metadata": {},
   "outputs": [
    {
     "data": {
      "text/latex": [
       "$\\displaystyle \\frac{\\frac{c^{2} \\cdot \\left(1 - e^{\\mu{\\left(r \\right)}}\\right)}{2} + v_{tg}^{2}}{c^{2} \\rho^{2} v_{tg}^{4}}$"
      ],
      "text/plain": [
       "(c**2*(1 - exp(mu(r)))/2 + v_tg**2)/(c**2*rho**2*v_tg**4)"
      ]
     },
     "execution_count": 5,
     "metadata": {},
     "output_type": "execute_result"
    }
   ],
   "source": [
    "lambdaSolution = solve(equation, lambda_)\n",
    "lambdaSolution[0]"
   ]
  },
  {
   "cell_type": "code",
   "execution_count": 6,
   "id": "ffd890ea-b287-4d30-97fb-23b9860dd426",
   "metadata": {},
   "outputs": [
    {
     "data": {
      "text/latex": [
       "$\\displaystyle \\log{\\left(- 2 \\lambda \\rho^{2} v_{tg}^{4} + 1 + \\frac{2 v_{tg}^{2}}{c^{2}} \\right)}$"
      ],
      "text/plain": [
       "log(-2*lambda*rho**2*v_tg**4 + 1 + 2*v_tg**2/c**2)"
      ]
     },
     "execution_count": 6,
     "metadata": {},
     "output_type": "execute_result"
    }
   ],
   "source": [
    "muSolution = solve(equation, mu)\n",
    "muSolution[0]"
   ]
  },
  {
   "cell_type": "markdown",
   "id": "a3b18707-9d10-4743-b939-d95768754d18",
   "metadata": {},
   "source": [
    "# Solving for mu"
   ]
  },
  {
   "cell_type": "code",
   "execution_count": 7,
   "id": "42bb644d-9435-45f9-99ae-29721e183ea7",
   "metadata": {},
   "outputs": [
    {
     "data": {
      "text/latex": [
       "$\\displaystyle \\frac{1 - \\sqrt{- 2 c^{4} \\lambda \\rho^{2} \\left(e^{\\mu{\\left(r \\right)}} - 1\\right) + 1}}{2 c^{2} \\lambda r \\rho^{2}}$"
      ],
      "text/plain": [
       "(1 - sqrt(-2*c**4*lambda*rho**2*(exp(mu(r)) - 1) + 1))/(2*c**2*lambda*r*rho**2)"
      ]
     },
     "execution_count": 7,
     "metadata": {},
     "output_type": "execute_result"
    }
   ],
   "source": [
    "nu=(1 - sqrt(1 - 2 * lambda_ * rho**2 *c**4* (exp(mu) - 1)) )/ (2 * lambda_ * rho**2*c**2*r)\n",
    "nu"
   ]
  },
  {
   "cell_type": "code",
   "execution_count": 8,
   "id": "d192c54e-3608-4f08-93d3-7633045f9972",
   "metadata": {},
   "outputs": [
    {
     "data": {
      "text/latex": [
       "$\\displaystyle \\frac{\\left(1 - \\sqrt{- 2 c^{4} \\lambda \\rho^{2} \\left(e^{\\mu{\\left(r \\right)}} - 1\\right) + 1}\\right)^{2}}{4 c^{4} \\lambda^{2} r \\rho^{4}}$"
      ],
      "text/plain": [
       "(1 - sqrt(-2*c**4*lambda*rho**2*(exp(mu(r)) - 1) + 1))**2/(4*c**4*lambda**2*r*rho**4)"
      ]
     },
     "execution_count": 8,
     "metadata": {},
     "output_type": "execute_result"
    }
   ],
   "source": [
    "Fintegrand=r*nu**2\n",
    "Fintegrand"
   ]
  },
  {
   "cell_type": "code",
   "execution_count": 9,
   "id": "c2a2fa9e-4286-47cc-a3a9-0ab957a2106b",
   "metadata": {},
   "outputs": [
    {
     "data": {
      "text/latex": [
       "$\\displaystyle \\frac{\\int \\frac{2}{r}\\, dr + \\int \\left(- \\frac{2 \\sqrt{- 2 c^{4} \\lambda \\rho^{2} e^{\\mu{\\left(r \\right)}} + 2 c^{4} \\lambda \\rho^{2} + 1}}{r}\\right)\\, dr + \\int \\frac{2 c^{4} \\lambda \\rho^{2}}{r}\\, dr + \\int \\left(- \\frac{2 c^{4} \\lambda \\rho^{2} e^{\\mu{\\left(r \\right)}}}{r}\\right)\\, dr}{4 c^{4} \\lambda^{2} \\rho^{4}}$"
      ],
      "text/plain": [
       "(Integral(2/r, r) + Integral(-2*sqrt(-2*c**4*lambda*rho**2*exp(mu(r)) + 2*c**4*lambda*rho**2 + 1)/r, r) + Integral(2*c**4*lambda*rho**2/r, r) + Integral(-2*c**4*lambda*rho**2*exp(mu(r))/r, r))/(4*c**4*lambda**2*rho**4)"
      ]
     },
     "execution_count": 9,
     "metadata": {},
     "output_type": "execute_result"
    }
   ],
   "source": [
    "Fintegral = integrate(Fintegrand, r)\n",
    "Fintegral"
   ]
  },
  {
   "cell_type": "code",
   "execution_count": 10,
   "id": "2686b786-b049-4de5-b16b-e620aed5c0d9",
   "metadata": {},
   "outputs": [],
   "source": [
    "FintegralS=Fintegral.simplify()"
   ]
  },
  {
   "cell_type": "code",
   "execution_count": 11,
   "id": "58e1e796-04dc-4006-a90a-f68f3750c675",
   "metadata": {},
   "outputs": [
    {
     "data": {
      "text/latex": [
       "$\\displaystyle \\frac{c^{4} \\lambda \\rho^{2} \\log{\\left(r \\right)} - c^{4} \\lambda \\rho^{2} \\int \\frac{e^{\\mu{\\left(r \\right)}}}{r}\\, dr + \\log{\\left(r \\right)} - \\int \\frac{\\sqrt{- 2 c^{4} \\lambda \\rho^{2} e^{\\mu{\\left(r \\right)}} + 2 c^{4} \\lambda \\rho^{2} + 1}}{r}\\, dr}{2 c^{4} \\lambda^{2} \\rho^{4}}$"
      ],
      "text/plain": [
       "(c**4*lambda*rho**2*log(r) - c**4*lambda*rho**2*Integral(exp(mu(r))/r, r) + log(r) - Integral(sqrt(-2*c**4*lambda*rho**2*exp(mu(r)) + 2*c**4*lambda*rho**2 + 1)/r, r))/(2*c**4*lambda**2*rho**4)"
      ]
     },
     "execution_count": 11,
     "metadata": {},
     "output_type": "execute_result"
    }
   ],
   "source": [
    "FintegralS"
   ]
  },
  {
   "cell_type": "code",
   "execution_count": 12,
   "id": "0a6b2f8f-521a-4eff-a7ee-228d25b37d6d",
   "metadata": {},
   "outputs": [
    {
     "data": {
      "text/latex": [
       "$\\displaystyle 2 \\log{\\left(\\frac{c^{2} r}{2 G M{\\left(r \\right)}} \\right)} + \\frac{c^{4} \\lambda \\rho^{2} \\log{\\left(r \\right)} - c^{4} \\lambda \\rho^{2} \\int \\frac{e^{\\mu{\\left(r \\right)}}}{r}\\, dr + \\log{\\left(r \\right)} - \\int \\frac{\\sqrt{- 2 c^{4} \\lambda \\rho^{2} e^{\\mu{\\left(r \\right)}} + 2 c^{4} \\lambda \\rho^{2} + 1}}{r}\\, dr}{4 \\lambda \\rho^{2}}$"
      ],
      "text/plain": [
       "2*log(c**2*r/(2*G*M(r))) + (c**4*lambda*rho**2*log(r) - c**4*lambda*rho**2*Integral(exp(mu(r))/r, r) + log(r) - Integral(sqrt(-2*c**4*lambda*rho**2*exp(mu(r)) + 2*c**4*lambda*rho**2 + 1)/r, r))/(4*lambda*rho**2)"
      ]
     },
     "execution_count": 12,
     "metadata": {},
     "output_type": "execute_result"
    }
   ],
   "source": [
    "F=2*log(r*c**2/(2*G*M))+lambda_*rho**2*c**4/2*FintegralS\n",
    "F"
   ]
  },
  {
   "cell_type": "code",
   "execution_count": 13,
   "id": "d250bdd5-7f4d-4b81-80c1-f57b8394eca4",
   "metadata": {},
   "outputs": [
    {
     "data": {
      "text/latex": [
       "$\\displaystyle \\frac{c^{4} \\int \\frac{e^{\\frac{c^{4} \\log{\\left(r \\right)}}{4}} \\left(e^{- \\frac{c^{4} \\int \\frac{e^{\\mu{\\left(r \\right)}}}{r}\\, dr}{4}}\\right) e^{\\frac{\\log{\\left(r \\right)}}{4 \\lambda \\rho^{2}}} e^{- \\frac{\\int \\frac{\\sqrt{- 2 c^{4} \\lambda \\rho^{2} e^{\\mu{\\left(r \\right)}} + 2 c^{4} \\lambda \\rho^{2} + 1}}{r}\\, dr}{4 \\lambda \\rho^{2}}}}{M^{2}{\\left(r \\right)}}\\, dr}{4 G^{2}}$"
      ],
      "text/plain": [
       "c**4*Integral(exp(c**4*log(r)/4)*exp(-c**4*Integral(exp(mu(r))/r, r)/4)*exp(log(r)/(4*lambda*rho**2))*exp(-Integral(sqrt(-2*c**4*lambda*rho**2*exp(mu(r)) + 2*c**4*lambda*rho**2 + 1)/r, r)/(4*lambda*rho**2))/M(r)**2, r)/(4*G**2)"
      ]
     },
     "execution_count": 13,
     "metadata": {},
     "output_type": "execute_result"
    }
   ],
   "source": [
    "integral1Mu=integrate(exp(F)/(r**2),r)\n",
    "integral1Mu"
   ]
  },
  {
   "cell_type": "code",
   "execution_count": 14,
   "id": "804eb1de-85de-45b9-b025-15698fc129c3",
   "metadata": {},
   "outputs": [
    {
     "data": {
      "text/latex": [
       "$\\displaystyle \\frac{c^{4} \\int \\frac{r^{2} e^{\\frac{c^{4} \\log{\\left(r \\right)}}{4}} \\left(e^{- \\frac{c^{4} \\int \\frac{e^{\\mu{\\left(r \\right)}}}{r}\\, dr}{4}}\\right) e^{\\frac{\\log{\\left(r \\right)}}{4 \\lambda \\rho^{2}}} e^{- \\frac{\\int \\frac{\\sqrt{- 2 c^{4} \\lambda \\rho^{2} e^{\\mu{\\left(r \\right)}} + 2 c^{4} \\lambda \\rho^{2} + 1}}{r}\\, dr}{4 \\lambda \\rho^{2}}}}{M^{2}{\\left(r \\right)}}\\, dr}{4 G^{2}}$"
      ],
      "text/plain": [
       "c**4*Integral(r**2*exp(c**4*log(r)/4)*exp(-c**4*Integral(exp(mu(r))/r, r)/4)*exp(log(r)/(4*lambda*rho**2))*exp(-Integral(sqrt(-2*c**4*lambda*rho**2*exp(mu(r)) + 2*c**4*lambda*rho**2 + 1)/r, r)/(4*lambda*rho**2))/M(r)**2, r)/(4*G**2)"
      ]
     },
     "execution_count": 14,
     "metadata": {},
     "output_type": "execute_result"
    }
   ],
   "source": [
    "integral2Mu=integrate(exp(F),r)\n",
    "integral2Mu"
   ]
  },
  {
   "cell_type": "code",
   "execution_count": 15,
   "id": "c4dee1af-4334-4087-adf7-932aa58cc8e2",
   "metadata": {},
   "outputs": [
    {
     "data": {
      "text/latex": [
       "$\\displaystyle - \\log{\\left(r \\left(- \\frac{c^{4} \\kappa \\rho \\int \\frac{r^{2} e^{\\frac{c^{4} \\log{\\left(r \\right)}}{4}} \\left(e^{- \\frac{c^{4} \\int \\frac{e^{\\mu{\\left(r \\right)}}}{r}\\, dr}{4}}\\right) e^{\\frac{\\log{\\left(r \\right)}}{4 \\lambda \\rho^{2}}} e^{- \\frac{\\int \\frac{\\sqrt{- 2 c^{4} \\lambda \\rho^{2} e^{\\mu{\\left(r \\right)}} + 2 c^{4} \\lambda \\rho^{2} + 1}}{r}\\, dr}{4 \\lambda \\rho^{2}}}}{M^{2}{\\left(r \\right)}}\\, dr}{4 G^{2}} + \\frac{c^{4} \\int \\frac{e^{\\frac{c^{4} \\log{\\left(r \\right)}}{4}} \\left(e^{- \\frac{c^{4} \\int \\frac{e^{\\mu{\\left(r \\right)}}}{r}\\, dr}{4}}\\right) e^{\\frac{\\log{\\left(r \\right)}}{4 \\lambda \\rho^{2}}} e^{- \\frac{\\int \\frac{\\sqrt{- 2 c^{4} \\lambda \\rho^{2} e^{\\mu{\\left(r \\right)}} + 2 c^{4} \\lambda \\rho^{2} + 1}}{r}\\, dr}{4 \\lambda \\rho^{2}}}}{M^{2}{\\left(r \\right)}}\\, dr}{4 G^{2}}\\right) \\right)} + 2 \\log{\\left(\\frac{c^{2} r}{2 G M{\\left(r \\right)}} \\right)} + \\frac{c^{4} \\lambda \\rho^{2} \\log{\\left(r \\right)} - c^{4} \\lambda \\rho^{2} \\int \\frac{e^{\\mu{\\left(r \\right)}}}{r}\\, dr + \\log{\\left(r \\right)} - \\int \\frac{\\sqrt{- 2 c^{4} \\lambda \\rho^{2} e^{\\mu{\\left(r \\right)}} + 2 c^{4} \\lambda \\rho^{2} + 1}}{r}\\, dr}{4 \\lambda \\rho^{2}}$"
      ],
      "text/plain": [
       "-log(r*(-c**4*kappa*rho*Integral(r**2*exp(c**4*log(r)/4)*exp(-c**4*Integral(exp(mu(r))/r, r)/4)*exp(log(r)/(4*lambda*rho**2))*exp(-Integral(sqrt(-2*c**4*lambda*rho**2*exp(mu(r)) + 2*c**4*lambda*rho**2 + 1)/r, r)/(4*lambda*rho**2))/M(r)**2, r)/(4*G**2) + c**4*Integral(exp(c**4*log(r)/4)*exp(-c**4*Integral(exp(mu(r))/r, r)/4)*exp(log(r)/(4*lambda*rho**2))*exp(-Integral(sqrt(-2*c**4*lambda*rho**2*exp(mu(r)) + 2*c**4*lambda*rho**2 + 1)/r, r)/(4*lambda*rho**2))/M(r)**2, r)/(4*G**2))) + 2*log(c**2*r/(2*G*M(r))) + (c**4*lambda*rho**2*log(r) - c**4*lambda*rho**2*Integral(exp(mu(r))/r, r) + log(r) - Integral(sqrt(-2*c**4*lambda*rho**2*exp(mu(r)) + 2*c**4*lambda*rho**2 + 1)/r, r))/(4*lambda*rho**2)"
      ]
     },
     "execution_count": 15,
     "metadata": {},
     "output_type": "execute_result"
    }
   ],
   "source": [
    "Mu=F-log(r*(integral1Mu-kappa*rho*integral2Mu))\n",
    "Mu"
   ]
  },
  {
   "cell_type": "code",
   "execution_count": 16,
   "id": "a82619d2-bc34-4465-949e-5feb50a09131",
   "metadata": {},
   "outputs": [
    {
     "data": {
      "text/latex": [
       "$\\displaystyle \\frac{c^{4} \\lambda \\rho^{2} \\log{\\left(r \\right)} - c^{4} \\lambda \\rho^{2} \\int \\frac{e^{\\mu{\\left(r \\right)}}}{r}\\, dr + 4 \\lambda \\rho^{2} \\left(- \\log{\\left(- \\frac{c^{4} r \\left(\\kappa \\rho \\int \\frac{r^{2} e^{\\frac{c^{4} \\log{\\left(r \\right)}}{4}} \\left(e^{- \\frac{c^{4} \\int \\frac{e^{\\mu{\\left(r \\right)}}}{r}\\, dr}{4}}\\right) e^{\\frac{\\log{\\left(r \\right)}}{4 \\lambda \\rho^{2}}} e^{- \\frac{\\int \\frac{\\sqrt{- 2 c^{4} \\lambda \\rho^{2} e^{\\mu{\\left(r \\right)}} + 2 c^{4} \\lambda \\rho^{2} + 1}}{r}\\, dr}{4 \\lambda \\rho^{2}}}}{M^{2}{\\left(r \\right)}}\\, dr - \\int \\frac{e^{\\frac{c^{4} \\log{\\left(r \\right)}}{4}} \\left(e^{- \\frac{c^{4} \\int \\frac{e^{\\mu{\\left(r \\right)}}}{r}\\, dr}{4}}\\right) e^{\\frac{\\log{\\left(r \\right)}}{4 \\lambda \\rho^{2}}} e^{- \\frac{\\int \\frac{\\sqrt{- 2 c^{4} \\lambda \\rho^{2} e^{\\mu{\\left(r \\right)}} + 2 c^{4} \\lambda \\rho^{2} + 1}}{r}\\, dr}{4 \\lambda \\rho^{2}}}}{M^{2}{\\left(r \\right)}}\\, dr\\right)}{G^{2}} \\right)} + 2 \\log{\\left(\\frac{c^{2} r}{G M{\\left(r \\right)}} \\right)}\\right) + \\log{\\left(r \\right)} - \\int \\frac{\\sqrt{- 2 c^{4} \\lambda \\rho^{2} e^{\\mu{\\left(r \\right)}} + 2 c^{4} \\lambda \\rho^{2} + 1}}{r}\\, dr}{4 \\lambda \\rho^{2}}$"
      ],
      "text/plain": [
       "(c**4*lambda*rho**2*log(r) - c**4*lambda*rho**2*Integral(exp(mu(r))/r, r) + 4*lambda*rho**2*(-log(-c**4*r*(kappa*rho*Integral(r**2*exp(c**4*log(r)/4)*exp(-c**4*Integral(exp(mu(r))/r, r)/4)*exp(log(r)/(4*lambda*rho**2))*exp(-Integral(sqrt(-2*c**4*lambda*rho**2*exp(mu(r)) + 2*c**4*lambda*rho**2 + 1)/r, r)/(4*lambda*rho**2))/M(r)**2, r) - Integral(exp(c**4*log(r)/4)*exp(-c**4*Integral(exp(mu(r))/r, r)/4)*exp(log(r)/(4*lambda*rho**2))*exp(-Integral(sqrt(-2*c**4*lambda*rho**2*exp(mu(r)) + 2*c**4*lambda*rho**2 + 1)/r, r)/(4*lambda*rho**2))/M(r)**2, r))/G**2) + 2*log(c**2*r/(G*M(r)))) + log(r) - Integral(sqrt(-2*c**4*lambda*rho**2*exp(mu(r)) + 2*c**4*lambda*rho**2 + 1)/r, r))/(4*lambda*rho**2)"
      ]
     },
     "execution_count": 16,
     "metadata": {},
     "output_type": "execute_result"
    }
   ],
   "source": [
    "MuS=Mu.simplify()\n",
    "MuS"
   ]
  },
  {
   "cell_type": "code",
   "execution_count": 17,
   "id": "57c0b872-4977-4335-bb1a-68d3ef7f9299",
   "metadata": {},
   "outputs": [
    {
     "data": {
      "text/latex": [
       "$\\displaystyle \\mu{\\left(r \\right)} = \\frac{c^{4} \\lambda \\rho^{2} \\log{\\left(r \\right)} - c^{4} \\lambda \\rho^{2} \\int \\frac{e^{\\mu{\\left(r \\right)}}}{r}\\, dr + 4 \\lambda \\rho^{2} \\left(- \\log{\\left(- \\frac{c^{4} r \\left(\\kappa \\rho \\int \\frac{r^{2} e^{\\frac{c^{4} \\log{\\left(r \\right)}}{4}} \\left(e^{- \\frac{c^{4} \\int \\frac{e^{\\mu{\\left(r \\right)}}}{r}\\, dr}{4}}\\right) e^{\\frac{\\log{\\left(r \\right)}}{4 \\lambda \\rho^{2}}} e^{- \\frac{\\int \\frac{\\sqrt{- 2 c^{4} \\lambda \\rho^{2} e^{\\mu{\\left(r \\right)}} + 2 c^{4} \\lambda \\rho^{2} + 1}}{r}\\, dr}{4 \\lambda \\rho^{2}}}}{M^{2}{\\left(r \\right)}}\\, dr - \\int \\frac{e^{\\frac{c^{4} \\log{\\left(r \\right)}}{4}} \\left(e^{- \\frac{c^{4} \\int \\frac{e^{\\mu{\\left(r \\right)}}}{r}\\, dr}{4}}\\right) e^{\\frac{\\log{\\left(r \\right)}}{4 \\lambda \\rho^{2}}} e^{- \\frac{\\int \\frac{\\sqrt{- 2 c^{4} \\lambda \\rho^{2} e^{\\mu{\\left(r \\right)}} + 2 c^{4} \\lambda \\rho^{2} + 1}}{r}\\, dr}{4 \\lambda \\rho^{2}}}}{M^{2}{\\left(r \\right)}}\\, dr\\right)}{G^{2}} \\right)} + 2 \\log{\\left(\\frac{c^{2} r}{G M{\\left(r \\right)}} \\right)}\\right) + \\log{\\left(r \\right)} - \\int \\frac{\\sqrt{- 2 c^{4} \\lambda \\rho^{2} e^{\\mu{\\left(r \\right)}} + 2 c^{4} \\lambda \\rho^{2} + 1}}{r}\\, dr}{4 \\lambda \\rho^{2}}$"
      ],
      "text/plain": [
       "Eq(mu(r), (c**4*lambda*rho**2*log(r) - c**4*lambda*rho**2*Integral(exp(mu(r))/r, r) + 4*lambda*rho**2*(-log(-c**4*r*(kappa*rho*Integral(r**2*exp(c**4*log(r)/4)*exp(-c**4*Integral(exp(mu(r))/r, r)/4)*exp(log(r)/(4*lambda*rho**2))*exp(-Integral(sqrt(-2*c**4*lambda*rho**2*exp(mu(r)) + 2*c**4*lambda*rho**2 + 1)/r, r)/(4*lambda*rho**2))/M(r)**2, r) - Integral(exp(c**4*log(r)/4)*exp(-c**4*Integral(exp(mu(r))/r, r)/4)*exp(log(r)/(4*lambda*rho**2))*exp(-Integral(sqrt(-2*c**4*lambda*rho**2*exp(mu(r)) + 2*c**4*lambda*rho**2 + 1)/r, r)/(4*lambda*rho**2))/M(r)**2, r))/G**2) + 2*log(c**2*r/(G*M(r)))) + log(r) - Integral(sqrt(-2*c**4*lambda*rho**2*exp(mu(r)) + 2*c**4*lambda*rho**2 + 1)/r, r))/(4*lambda*rho**2))"
      ]
     },
     "execution_count": 17,
     "metadata": {},
     "output_type": "execute_result"
    }
   ],
   "source": [
    "equationmu = Eq(mu , MuS)\n",
    "equationmu"
   ]
  },
  {
   "cell_type": "code",
   "execution_count": 18,
   "id": "73d9af69-af6b-4351-9c4f-33c0868b70cf",
   "metadata": {},
   "outputs": [
    {
     "data": {
      "text/latex": [
       "$\\displaystyle 4 \\lambda \\rho^{2} \\mu{\\left(r \\right)} = c^{4} \\lambda \\rho^{2} \\log{\\left(r \\right)} - c^{4} \\lambda \\rho^{2} \\int \\frac{e^{\\mu{\\left(r \\right)}}}{r}\\, dr + 4 \\lambda \\rho^{2} \\left(- \\log{\\left(- \\frac{c^{4} r \\left(\\kappa \\rho \\int \\frac{r^{2} e^{\\frac{c^{4} \\log{\\left(r \\right)}}{4}} \\left(e^{- \\frac{c^{4} \\int \\frac{e^{\\mu{\\left(r \\right)}}}{r}\\, dr}{4}}\\right) e^{\\frac{\\log{\\left(r \\right)}}{4 \\lambda \\rho^{2}}} e^{- \\frac{\\int \\frac{\\sqrt{- 2 c^{4} \\lambda \\rho^{2} e^{\\mu{\\left(r \\right)}} + 2 c^{4} \\lambda \\rho^{2} + 1}}{r}\\, dr}{4 \\lambda \\rho^{2}}}}{M^{2}{\\left(r \\right)}}\\, dr - \\int \\frac{e^{\\frac{c^{4} \\log{\\left(r \\right)}}{4}} \\left(e^{- \\frac{c^{4} \\int \\frac{e^{\\mu{\\left(r \\right)}}}{r}\\, dr}{4}}\\right) e^{\\frac{\\log{\\left(r \\right)}}{4 \\lambda \\rho^{2}}} e^{- \\frac{\\int \\frac{\\sqrt{- 2 c^{4} \\lambda \\rho^{2} e^{\\mu{\\left(r \\right)}} + 2 c^{4} \\lambda \\rho^{2} + 1}}{r}\\, dr}{4 \\lambda \\rho^{2}}}}{M^{2}{\\left(r \\right)}}\\, dr\\right)}{G^{2}} \\right)} + 2 \\log{\\left(\\frac{c^{2} r}{G M{\\left(r \\right)}} \\right)}\\right) + \\log{\\left(r \\right)} - \\int \\frac{\\sqrt{- 2 c^{4} \\lambda \\rho^{2} e^{\\mu{\\left(r \\right)}} + 2 c^{4} \\lambda \\rho^{2} + 1}}{r}\\, dr$"
      ],
      "text/plain": [
       "Eq(4*lambda*rho**2*mu(r), c**4*lambda*rho**2*log(r) - c**4*lambda*rho**2*Integral(exp(mu(r))/r, r) + 4*lambda*rho**2*(-log(-c**4*r*(kappa*rho*Integral(r**2*exp(c**4*log(r)/4)*exp(-c**4*Integral(exp(mu(r))/r, r)/4)*exp(log(r)/(4*lambda*rho**2))*exp(-Integral(sqrt(-2*c**4*lambda*rho**2*exp(mu(r)) + 2*c**4*lambda*rho**2 + 1)/r, r)/(4*lambda*rho**2))/M(r)**2, r) - Integral(exp(c**4*log(r)/4)*exp(-c**4*Integral(exp(mu(r))/r, r)/4)*exp(log(r)/(4*lambda*rho**2))*exp(-Integral(sqrt(-2*c**4*lambda*rho**2*exp(mu(r)) + 2*c**4*lambda*rho**2 + 1)/r, r)/(4*lambda*rho**2))/M(r)**2, r))/G**2) + 2*log(c**2*r/(G*M(r)))) + log(r) - Integral(sqrt(-2*c**4*lambda*rho**2*exp(mu(r)) + 2*c**4*lambda*rho**2 + 1)/r, r))"
      ]
     },
     "execution_count": 18,
     "metadata": {},
     "output_type": "execute_result"
    }
   ],
   "source": [
    "equationMu = Eq(mu*4*lambda_*rho**2 , MuS*4*lambda_*rho**2)\n",
    "equationMu"
   ]
  },
  {
   "cell_type": "code",
   "execution_count": 19,
   "id": "2b002ae2-df3b-4b66-beec-7eb621d54b8f",
   "metadata": {},
   "outputs": [
    {
     "data": {
      "text/latex": [
       "$\\displaystyle 4 \\lambda \\rho^{2} \\log{\\left(- 2 \\lambda \\rho^{2} v_{tg}^{4} + 1 + \\frac{2 v_{tg}^{2}}{c^{2}} \\right)} = c^{4} \\lambda \\rho^{2} \\log{\\left(r \\right)} - c^{4} \\lambda \\rho^{2} \\int \\frac{- 2 \\lambda \\rho^{2} v_{tg}^{4} + 1 + \\frac{2 v_{tg}^{2}}{c^{2}}}{r}\\, dr + 4 \\lambda \\rho^{2} \\left(- \\log{\\left(- \\frac{c^{4} r \\left(\\kappa \\rho \\int \\frac{r^{2} e^{\\frac{c^{4} \\log{\\left(r \\right)}}{4}} \\left(e^{- \\frac{c^{4} \\int \\frac{- 2 \\lambda \\rho^{2} v_{tg}^{4} + 1 + \\frac{2 v_{tg}^{2}}{c^{2}}}{r}\\, dr}{4}}\\right) e^{\\frac{\\log{\\left(r \\right)}}{4 \\lambda \\rho^{2}}} e^{- \\frac{\\int \\frac{\\sqrt{- 2 c^{4} \\lambda \\rho^{2} \\left(- 2 \\lambda \\rho^{2} v_{tg}^{4} + 1 + \\frac{2 v_{tg}^{2}}{c^{2}}\\right) + 2 c^{4} \\lambda \\rho^{2} + 1}}{r}\\, dr}{4 \\lambda \\rho^{2}}}}{M^{2}{\\left(r \\right)}}\\, dr - \\int \\frac{e^{\\frac{c^{4} \\log{\\left(r \\right)}}{4}} \\left(e^{- \\frac{c^{4} \\int \\frac{- 2 \\lambda \\rho^{2} v_{tg}^{4} + 1 + \\frac{2 v_{tg}^{2}}{c^{2}}}{r}\\, dr}{4}}\\right) e^{\\frac{\\log{\\left(r \\right)}}{4 \\lambda \\rho^{2}}} e^{- \\frac{\\int \\frac{\\sqrt{- 2 c^{4} \\lambda \\rho^{2} \\left(- 2 \\lambda \\rho^{2} v_{tg}^{4} + 1 + \\frac{2 v_{tg}^{2}}{c^{2}}\\right) + 2 c^{4} \\lambda \\rho^{2} + 1}}{r}\\, dr}{4 \\lambda \\rho^{2}}}}{M^{2}{\\left(r \\right)}}\\, dr\\right)}{G^{2}} \\right)} + 2 \\log{\\left(\\frac{c^{2} r}{G M{\\left(r \\right)}} \\right)}\\right) + \\log{\\left(r \\right)} - \\int \\frac{\\sqrt{- 2 c^{4} \\lambda \\rho^{2} \\left(- 2 \\lambda \\rho^{2} v_{tg}^{4} + 1 + \\frac{2 v_{tg}^{2}}{c^{2}}\\right) + 2 c^{4} \\lambda \\rho^{2} + 1}}{r}\\, dr$"
      ],
      "text/plain": [
       "Eq(4*lambda*rho**2*log(-2*lambda*rho**2*v_tg**4 + 1 + 2*v_tg**2/c**2), c**4*lambda*rho**2*log(r) - c**4*lambda*rho**2*Integral((-2*lambda*rho**2*v_tg**4 + 1 + 2*v_tg**2/c**2)/r, r) + 4*lambda*rho**2*(-log(-c**4*r*(kappa*rho*Integral(r**2*exp(c**4*log(r)/4)*exp(-c**4*Integral((-2*lambda*rho**2*v_tg**4 + 1 + 2*v_tg**2/c**2)/r, r)/4)*exp(log(r)/(4*lambda*rho**2))*exp(-Integral(sqrt(-2*c**4*lambda*rho**2*(-2*lambda*rho**2*v_tg**4 + 1 + 2*v_tg**2/c**2) + 2*c**4*lambda*rho**2 + 1)/r, r)/(4*lambda*rho**2))/M(r)**2, r) - Integral(exp(c**4*log(r)/4)*exp(-c**4*Integral((-2*lambda*rho**2*v_tg**4 + 1 + 2*v_tg**2/c**2)/r, r)/4)*exp(log(r)/(4*lambda*rho**2))*exp(-Integral(sqrt(-2*c**4*lambda*rho**2*(-2*lambda*rho**2*v_tg**4 + 1 + 2*v_tg**2/c**2) + 2*c**4*lambda*rho**2 + 1)/r, r)/(4*lambda*rho**2))/M(r)**2, r))/G**2) + 2*log(c**2*r/(G*M(r)))) + log(r) - Integral(sqrt(-2*c**4*lambda*rho**2*(-2*lambda*rho**2*v_tg**4 + 1 + 2*v_tg**2/c**2) + 2*c**4*lambda*rho**2 + 1)/r, r))"
      ]
     },
     "execution_count": 19,
     "metadata": {},
     "output_type": "execute_result"
    }
   ],
   "source": [
    "equationLambda=equationMu.subs(mu,muSolution[0])\n",
    "equationLambda"
   ]
  },
  {
   "cell_type": "markdown",
   "id": "157b214e-923b-496f-8b67-4108473de7f5",
   "metadata": {},
   "source": [
    "# Dumping and loading Equations"
   ]
  },
  {
   "cell_type": "code",
   "execution_count": 20,
   "id": "1a52fd24-85d5-475e-9121-51d03bc7a8f1",
   "metadata": {},
   "outputs": [],
   "source": [
    "equation_str = srepr(equationMu)\n",
    "with open('EquationMu.txt', 'w') as file:\n",
    "    file.write(equation_str)"
   ]
  },
  {
   "cell_type": "code",
   "execution_count": 21,
   "id": "e26e24cf-3b94-4d2d-bc7b-dd703df75816",
   "metadata": {},
   "outputs": [],
   "source": [
    "equationLambda_str = srepr(equationLambda)\n",
    "with open('equationLambda.txt', 'w') as file:\n",
    "    file.write(equationLambda_str)"
   ]
  },
  {
   "cell_type": "code",
   "execution_count": 22,
   "id": "19545e36-1ffb-41dc-967e-b8ac20cd49dc",
   "metadata": {},
   "outputs": [],
   "source": [
    "F_str = srepr(F)\n",
    "with open('EquationF.txt', 'w') as file:\n",
    "    file.write(F_str)\n",
    "\n",
    "integral1Mu_str = srepr(integral1Mu)\n",
    "with open('Equationintegral1Mu.txt', 'w') as file:\n",
    "    file.write(integral1Mu_str)\n",
    "\n",
    "integral2Mu_str = srepr(integral2Mu)\n",
    "with open('Equationintegral2Mu.txt', 'w') as file:\n",
    "    file.write(integral2Mu_str)"
   ]
  },
  {
   "cell_type": "code",
   "execution_count": 23,
   "id": "f9aa6886-7f40-4ef0-8e45-d1e6fb877f35",
   "metadata": {},
   "outputs": [
    {
     "data": {
      "text/latex": [
       "$\\displaystyle 4 \\lambda \\rho^{2} \\mu{\\left(r \\right)} = c^{4} \\lambda \\rho^{2} \\log{\\left(r \\right)} - c^{4} \\lambda \\rho^{2} \\int \\frac{e^{\\mu{\\left(r \\right)}}}{r}\\, dr + 4 \\lambda \\rho^{2} \\left(- \\log{\\left(- \\frac{c^{4} r \\left(\\kappa \\rho \\int \\frac{r^{2} e^{\\frac{c^{4} \\log{\\left(r \\right)}}{4}} \\left(e^{- \\frac{c^{4} \\int \\frac{e^{\\mu{\\left(r \\right)}}}{r}\\, dr}{4}}\\right) e^{\\frac{\\log{\\left(r \\right)}}{4 \\lambda \\rho^{2}}} e^{- \\frac{\\int \\frac{\\sqrt{- 2 c^{4} \\lambda \\rho^{2} e^{\\mu{\\left(r \\right)}} + 2 c^{4} \\lambda \\rho^{2} + 1}}{r}\\, dr}{4 \\lambda \\rho^{2}}}}{M^{2}{\\left(r \\right)}}\\, dr - \\int \\frac{e^{\\frac{c^{4} \\log{\\left(r \\right)}}{4}} \\left(e^{- \\frac{c^{4} \\int \\frac{e^{\\mu{\\left(r \\right)}}}{r}\\, dr}{4}}\\right) e^{\\frac{\\log{\\left(r \\right)}}{4 \\lambda \\rho^{2}}} e^{- \\frac{\\int \\frac{\\sqrt{- 2 c^{4} \\lambda \\rho^{2} e^{\\mu{\\left(r \\right)}} + 2 c^{4} \\lambda \\rho^{2} + 1}}{r}\\, dr}{4 \\lambda \\rho^{2}}}}{M^{2}{\\left(r \\right)}}\\, dr\\right)}{G^{2}} \\right)} + 2 \\log{\\left(\\frac{c^{2} r}{G M{\\left(r \\right)}} \\right)}\\right) + \\log{\\left(r \\right)} - \\int \\frac{\\sqrt{- 2 c^{4} \\lambda \\rho^{2} e^{\\mu{\\left(r \\right)}} + 2 c^{4} \\lambda \\rho^{2} + 1}}{r}\\, dr$"
      ],
      "text/plain": [
       "Eq(4*lambda*rho**2*mu(r), c**4*lambda*rho**2*log(r) - c**4*lambda*rho**2*Integral(exp(mu(r))/r, r) + 4*lambda*rho**2*(-log(-c**4*r*(kappa*rho*Integral(r**2*exp(c**4*log(r)/4)*exp(-c**4*Integral(exp(mu(r))/r, r)/4)*exp(log(r)/(4*lambda*rho**2))*exp(-Integral(sqrt(-2*c**4*lambda*rho**2*exp(mu(r)) + 2*c**4*lambda*rho**2 + 1)/r, r)/(4*lambda*rho**2))/M(r)**2, r) - Integral(exp(c**4*log(r)/4)*exp(-c**4*Integral(exp(mu(r))/r, r)/4)*exp(log(r)/(4*lambda*rho**2))*exp(-Integral(sqrt(-2*c**4*lambda*rho**2*exp(mu(r)) + 2*c**4*lambda*rho**2 + 1)/r, r)/(4*lambda*rho**2))/M(r)**2, r))/G**2) + 2*log(c**2*r/(G*M(r)))) + log(r) - Integral(sqrt(-2*c**4*lambda*rho**2*exp(mu(r)) + 2*c**4*lambda*rho**2 + 1)/r, r))"
      ]
     },
     "execution_count": 23,
     "metadata": {},
     "output_type": "execute_result"
    }
   ],
   "source": [
    "with open('EquationF.txt', 'r') as file:\n",
    "    equation_str = file.read()\n",
    "FLoaded = parse_expr(equation_str, evaluate=False)\n",
    "\n",
    "with open('Equationintegral1Mu.txt', 'r') as file:\n",
    "    equation_str = file.read()\n",
    "integral1MuLoaded = parse_expr(equation_str, evaluate=False)\n",
    "\n",
    "with open('Equationintegral2Mu.txt', 'r') as file:\n",
    "    equation_str = file.read()\n",
    "integral2MuLoaded = parse_expr(equation_str, evaluate=False)\n",
    "\n",
    "with open('EquationMu.txt', 'r') as file:\n",
    "    equation_str = file.read()\n",
    "muLoaded = parse_expr(equation_str, evaluate=False)\n",
    "muLoaded"
   ]
  },
  {
   "cell_type": "markdown",
   "id": "202ef21b-a99c-4c3d-966f-cbde8b45740a",
   "metadata": {},
   "source": [
    "# Working with Constants"
   ]
  },
  {
   "cell_type": "markdown",
   "id": "141f12cd-3587-41c5-a834-033255c3d109",
   "metadata": {},
   "source": [
    "## Defining Mass and Density from empirical data for Milkyway"
   ]
  },
  {
   "cell_type": "markdown",
   "id": "feedbaa8-4589-444e-9a79-80732cce359b",
   "metadata": {},
   "source": [
    "### Putting value of mu from v_tg equation to get lambda implicit equation "
   ]
  },
  {
   "cell_type": "markdown",
   "id": "70c2f2a5-3f63-4357-9871-fc80ff4809cc",
   "metadata": {},
   "source": [
    "### Working with other constants"
   ]
  },
  {
   "cell_type": "code",
   "execution_count": 5,
   "id": "a5c8bd53-8f74-40a9-95d3-ad1118ab1d52",
   "metadata": {},
   "outputs": [
    {
     "data": {
      "text/latex": [
       "$\\displaystyle 4 \\lambda \\rho^{2} \\log{\\left(- 2 \\lambda \\rho^{2} v_{tg}^{4} + 1 + \\frac{2 v_{tg}^{2}}{c^{2}} \\right)} = c^{4} \\lambda \\rho^{2} \\log{\\left(r \\right)} - c^{4} \\lambda \\rho^{2} \\int \\frac{- 2 \\lambda \\rho^{2} v_{tg}^{4} + 1 + \\frac{2 v_{tg}^{2}}{c^{2}}}{r}\\, dr + 4 \\lambda \\rho^{2} \\left(- \\log{\\left(- \\frac{c^{4} r \\left(\\kappa \\rho \\int \\frac{r^{2} e^{\\frac{c^{4} \\log{\\left(r \\right)}}{4}} \\left(e^{- \\frac{c^{4} \\int \\frac{- 2 \\lambda \\rho^{2} v_{tg}^{4} + 1 + \\frac{2 v_{tg}^{2}}{c^{2}}}{r}\\, dr}{4}}\\right) e^{\\frac{\\log{\\left(r \\right)}}{4 \\lambda \\rho^{2}}} e^{- \\frac{\\int \\frac{\\sqrt{- 2 c^{4} \\lambda \\rho^{2} \\left(- 2 \\lambda \\rho^{2} v_{tg}^{4} + 1 + \\frac{2 v_{tg}^{2}}{c^{2}}\\right) + 2 c^{4} \\lambda \\rho^{2} + 1}}{r}\\, dr}{4 \\lambda \\rho^{2}}}}{M^{2}{\\left(r \\right)}}\\, dr - \\int \\frac{e^{\\frac{c^{4} \\log{\\left(r \\right)}}{4}} \\left(e^{- \\frac{c^{4} \\int \\frac{- 2 \\lambda \\rho^{2} v_{tg}^{4} + 1 + \\frac{2 v_{tg}^{2}}{c^{2}}}{r}\\, dr}{4}}\\right) e^{\\frac{\\log{\\left(r \\right)}}{4 \\lambda \\rho^{2}}} e^{- \\frac{\\int \\frac{\\sqrt{- 2 c^{4} \\lambda \\rho^{2} \\left(- 2 \\lambda \\rho^{2} v_{tg}^{4} + 1 + \\frac{2 v_{tg}^{2}}{c^{2}}\\right) + 2 c^{4} \\lambda \\rho^{2} + 1}}{r}\\, dr}{4 \\lambda \\rho^{2}}}}{M^{2}{\\left(r \\right)}}\\, dr\\right)}{G^{2}} \\right)} + 2 \\log{\\left(\\frac{c^{2} r}{G M{\\left(r \\right)}} \\right)}\\right) + \\log{\\left(r \\right)} - \\int \\frac{\\sqrt{- 2 c^{4} \\lambda \\rho^{2} \\left(- 2 \\lambda \\rho^{2} v_{tg}^{4} + 1 + \\frac{2 v_{tg}^{2}}{c^{2}}\\right) + 2 c^{4} \\lambda \\rho^{2} + 1}}{r}\\, dr$"
      ],
      "text/plain": [
       "Eq(4*lambda*rho**2*log(-2*lambda*rho**2*v_tg**4 + 1 + 2*v_tg**2/c**2), c**4*lambda*rho**2*log(r) - c**4*lambda*rho**2*Integral((-2*lambda*rho**2*v_tg**4 + 1 + 2*v_tg**2/c**2)/r, r) + 4*lambda*rho**2*(-log(-c**4*r*(kappa*rho*Integral(r**2*exp(c**4*log(r)/4)*exp(-c**4*Integral((-2*lambda*rho**2*v_tg**4 + 1 + 2*v_tg**2/c**2)/r, r)/4)*exp(log(r)/(4*lambda*rho**2))*exp(-Integral(sqrt(-2*c**4*lambda*rho**2*(-2*lambda*rho**2*v_tg**4 + 1 + 2*v_tg**2/c**2) + 2*c**4*lambda*rho**2 + 1)/r, r)/(4*lambda*rho**2))/M(r)**2, r) - Integral(exp(c**4*log(r)/4)*exp(-c**4*Integral((-2*lambda*rho**2*v_tg**4 + 1 + 2*v_tg**2/c**2)/r, r)/4)*exp(log(r)/(4*lambda*rho**2))*exp(-Integral(sqrt(-2*c**4*lambda*rho**2*(-2*lambda*rho**2*v_tg**4 + 1 + 2*v_tg**2/c**2) + 2*c**4*lambda*rho**2 + 1)/r, r)/(4*lambda*rho**2))/M(r)**2, r))/G**2) + 2*log(c**2*r/(G*M(r)))) + log(r) - Integral(sqrt(-2*c**4*lambda*rho**2*(-2*lambda*rho**2*v_tg**4 + 1 + 2*v_tg**2/c**2) + 2*c**4*lambda*rho**2 + 1)/r, r))"
      ]
     },
     "execution_count": 5,
     "metadata": {},
     "output_type": "execute_result"
    }
   ],
   "source": [
    "with open('equationLambda.txt', 'r') as file:\n",
    "    equation_str = file.read()\n",
    "equationLambda = parse_expr(equation_str, evaluate=False)\n",
    "equationLambda"
   ]
  },
  {
   "cell_type": "code",
   "execution_count": 6,
   "id": "62aa24cf-e80d-4fd3-abaa-a459eb74d60b",
   "metadata": {},
   "outputs": [],
   "source": [
    " def findLogArgs(expr):\n",
    "        if expr.func == smp.log:\n",
    "            return [expr.args[0]]  \n",
    "        log_args = []\n",
    "        for arg in expr.args:\n",
    "            log_args.extend(findLogArgs(arg))  \n",
    "        return log_args\n",
    "\n",
    "def ConvertIndefinate2Definate(expr,limits):    \n",
    "    def Replacer(expr,limits):\n",
    "        dx=expr.variables\n",
    "        integrand=expr.function\n",
    "        result=smp.Integral(integrand,(dx,limits[0],limits[1]))\n",
    "        return result\n",
    "   \n",
    "    for arg in expr.args:            \n",
    "        if isinstance(arg, smp.Integral):\n",
    "            replacer=Replacer(arg,limits)\n",
    "            expr=expr.subs(arg,replacer) \n",
    "\n",
    "    logArguments=findLogArgs(expr)\n",
    "    for logs in logArguments: \n",
    "        for arg in logs.args:\n",
    "            if isinstance(arg, smp.Integral):\n",
    "                replacer=Replacer(arg,limits)\n",
    "                expr=expr.subs(arg,replacer) \n",
    "                \n",
    "    return expr\n",
    "\n",
    "\n",
    "def ConvertIndefinate2DefinateDeep(Expr,Limits): \n",
    "    def HasNestedIntegral(expr):\n",
    "        for node in preorder_traversal(expr):\n",
    "            if isinstance(node, smp.Integral):\n",
    "                return True\n",
    "        return False\n",
    "        \n",
    "    def ConvertIndefinate2Definate1(expr,limits):\n",
    "        def Replacer(expr,limits):\n",
    "            dx=expr.variables\n",
    "            integrand=expr.function\n",
    "            result=smp.Integral(integrand,(dx,limits[0],limits[1]))\n",
    "            return result\n",
    "            \n",
    "        replaced=False\n",
    "        for node in preorder_traversal(expr):\n",
    "            if isinstance(node, smp.Integral) and len(node.args[1])==1:\n",
    "                isnested=HasNestedIntegral(node.function)\n",
    "                if(True):\n",
    "                    replacer=Replacer(node,limits)\n",
    "                    expr=expr.replace(node,replacer)\n",
    "                    # display(node,'-----',replacer)\n",
    "                    replaced=True\n",
    "                    break\n",
    "        return expr,replaced\n",
    "    r=True\n",
    "    while(r):\n",
    "        Expr,r=ConvertIndefinate2Definate1(Expr,Limits)\n",
    "    return Expr"
   ]
  },
  {
   "cell_type": "code",
   "execution_count": 7,
   "id": "9d667967-588e-42f9-a6d7-a0d5da11fdf1",
   "metadata": {},
   "outputs": [],
   "source": [
    "def IntegralDeepClean(Expr): \n",
    "    def HasNestedIntegral(expr):\n",
    "        for node in preorder_traversal(expr):\n",
    "            if isinstance(node, smp.Integral):\n",
    "                return True\n",
    "        return False\n",
    "    \n",
    "    for node in preorder_traversal(Expr):\n",
    "         if isinstance(node, smp.Integral):\n",
    "             nested=HasNestedIntegral(node.function)\n",
    "             if(not nested):\n",
    "                 simple=node.simplify()\n",
    "                 Expr=Expr.replace(node,simple)\n",
    "    return Expr\n",
    "\n",
    "def IntegrandDeepClean(Expr): \n",
    "    def HasNestedIntegral(expr):\n",
    "        for node in preorder_traversal(expr):\n",
    "            if isinstance(node, smp.Integral):\n",
    "                return True\n",
    "        return False\n",
    "    \n",
    "    for node in preorder_traversal(Expr):\n",
    "         if isinstance(node, smp.Integral):\n",
    "             nested=HasNestedIntegral(node.function)\n",
    "             if(not nested):\n",
    "                 simple=node.function.simplify()\n",
    "                 Expr=Expr.replace(node.function,simple)\n",
    "    return Expr\n",
    "\n",
    "\n",
    "def IntegralDeepSepration(Expr):\n",
    "    def dealExponent(expr,dx):\n",
    "        fun=expr.args[0]\n",
    "        seps=fun.as_independent(dx,as_Mul=True)\n",
    "        seprated=exp(seps[0])*exp(seps[1])\n",
    "        return seprated\n",
    "        \n",
    "    def HasNestedIntegral(expr):\n",
    "        for node in preorder_traversal(expr):\n",
    "            if isinstance(node, smp.Integral):\n",
    "                return True\n",
    "        return False\n",
    "\n",
    "    def UpgradeIntegral(expr,integrand):\n",
    "        dx=expr.limits[0]\n",
    "        return smp.Integral(integrand,(dx[0],dx[1],dx[2])).simplify()\n",
    "    \n",
    "    for node in preorder_traversal(Expr):\n",
    "         if isinstance(node, smp.Integral):\n",
    "             isnested=HasNestedIntegral(node.function)\n",
    "             if(not isnested):\n",
    "                 fun=node.function\n",
    "                 dx=node.variables[0]\n",
    "                 for n in preorder_traversal(fun):\n",
    "                     if n.func == exp:\n",
    "                         exed= dealExponent(n,dx)\n",
    "                         fun=fun.replace(n,exed)\n",
    "                 updatedNode=UpgradeIntegral(node,fun)\n",
    "                 Expr=Expr.replace(node,updatedNode)\n",
    "                \n",
    "    return Expr\n",
    "\n",
    "def LogCleaning(Expr):\n",
    "    for node in preorder_traversal(Expr):\n",
    "        if node.func==log:\n",
    "            if(len(node.args)==1 and node.args[0].func==exp):        \n",
    "                Expr=Expr.subs(node,node.args[0].args[0])\n",
    "            else:\n",
    "                expanded=smp.expand_log(node,force=True)\n",
    "                Expr=Expr.subs(node,expanded)\n",
    "        \n",
    "    return Expr\n"
   ]
  },
  {
   "cell_type": "code",
   "execution_count": 8,
   "id": "80f3521f-448f-428b-bcfb-050ff686ad13",
   "metadata": {},
   "outputs": [
    {
     "name": "stdout",
     "output_type": "stream",
     "text": [
      "31499.999999999996\n"
     ]
    },
    {
     "data": {
      "text/plain": [
       "{G: 4.493208773765747e-15,\n",
       " kappa: 1.2812992654116785e-11,\n",
       " rho: 0.0004660000000000001,\n",
       " c: 0.30639838384057033,\n",
       " v_tg: 0.00022484769928710305}"
      ]
     },
     "execution_count": 8,
     "metadata": {},
     "output_type": "execute_result"
    }
   ],
   "source": [
    "pc_to_m = 3.086 * 10**16  # Conversion factor from kpc to meters\n",
    "solar_mass_to_kg = 1.989 * 10**30  # Conversion factor from solar masses to kilograms\n",
    "year_to_s = 3.154 * 10**7  # Conversion factor from years to seconds\n",
    "\n",
    "\n",
    "\n",
    "G_mks = 6.674 * 10**-11  # Gravitational constant in m^3 kg^-1 s^-2\n",
    "c_m_per_s=299792458 # m s^-1\n",
    "velocity_tg=220*1000 # m s^-1\n",
    "rhoSI=4.66*10**(-4)*1.989 * 10**30*(1/( 3.086 * 10**16)**3)\n",
    "rSI=31.5*1000*3.086 * 10**16\n",
    "\n",
    "\n",
    "# Conversion\n",
    "G_N = G_mks / ((pc_to_m**3) / (solar_mass_to_kg * (year_to_s**2)))\n",
    "c_N = c_m_per_s * (1 / pc_to_m) * year_to_s\n",
    "v_N = velocity_tg * (1 / pc_to_m) * year_to_s\n",
    "r_N=rSI/pc_to_m\n",
    "rho_N=rhoSI *(1/(solar_mass_to_kg))*(pc_to_m**3)\n",
    "kappa_N=8*np.pi*G_N/(c_N**4)\n",
    "\n",
    "constants = {G:G_N ,kappa: kappa_N, rho: rho_N,c:c_N,v_tg:v_N}\n",
    "print(r_N)\n",
    "constants"
   ]
  },
  {
   "cell_type": "code",
   "execution_count": 9,
   "id": "9b945843-4c8b-428c-8325-3a9c19095ada",
   "metadata": {},
   "outputs": [
    {
     "data": {
      "image/png": "[encoded data removed]",
      "text/plain": [
       "<Figure size 640x480 with 1 Axes>"
      ]
     },
     "metadata": {},
     "output_type": "display_data"
    }
   ],
   "source": [
    "densityDistributionN = Piecewise((rho_N, (r >= 0) & (r <= r_N)), (0, True))\n",
    "densityDistributionNPlot=plot(densityDistributionN,(r,0,1.5*r_N),show=False,title='Constant Density distribution',ylabel='Density(M/kpc^3)',xlabel='r (kpc)')\n",
    "densityDistributionNPlot.save('Density_Profile.png')\n",
    "densityDistributionNPlot.show()"
   ]
  },
  {
   "cell_type": "code",
   "execution_count": 10,
   "id": "28c66598-1d88-4e17-9c78-cc5f5a48a118",
   "metadata": {},
   "outputs": [
    {
     "data": {
      "image/png": "[encoded data removed]",
      "text/plain": [
       "<Figure size 640x480 with 1 Axes>"
      ]
     },
     "metadata": {},
     "output_type": "display_data"
    }
   ],
   "source": [
    "insideDistribution=(4/3)*smp.pi*r**3*rho_N\n",
    "outsideDistribution=(4/3)*np.pi*r_N**3*rho_N\n",
    "massDistributionN = Piecewise((insideDistribution, (r >= 0) & (r <= r_N)), (outsideDistribution, True))\n",
    "massDistributionNPlot=plot(massDistributionN,(r,0,1.5*r_N),show=False,title='Mass Distribution for Constant Density of Spherical shape',ylabel='Mass(M)',xlabel='r (kpc)')\n",
    "massDistributionNPlot.save('Mass_Profile.png')\n",
    "massDistributionNPlot.show()"
   ]
  },
  {
   "cell_type": "code",
   "execution_count": 11,
   "id": "c36fc41f-8c25-489f-96e0-2e2052861e64",
   "metadata": {},
   "outputs": [
    {
     "data": {
      "text/latex": [
       "$\\displaystyle 8.68624 \\cdot 10^{-7} \\lambda \\log{\\left(1.00000107704525 - 1.11008343338313 \\cdot 10^{-21} \\lambda \\right)} = 8.68624 \\cdot 10^{-7} \\lambda \\left(- \\log{\\left(- 4.36548684931048 \\cdot 10^{26} r \\left(- \\int \\frac{r^{0.00220336217396836} e^{\\frac{1151246.10878815 \\log{\\left(r \\right)}}{\\lambda}} \\left(e^{- \\frac{1151246.10878815 \\int \\frac{\\sqrt{- 3.82778653000218 \\cdot 10^{-9} \\lambda \\left(1.00000107704525 - 1.11008343338313 \\cdot 10^{-21} \\lambda\\right) + 3.82778653000218 \\cdot 10^{-9} \\lambda + 1}}{r}\\, dr}{\\lambda}}\\right) e^{- 0.00220336217396836 \\int \\frac{1.00000107704525 - 1.11008343338313 \\cdot 10^{-21} \\lambda}{r}\\, dr}}{M^{2}{\\left(r \\right)}}\\, dr + 5.97085457681842 \\cdot 10^{-15} \\int \\frac{r^{2.00220336217397} e^{\\frac{1151246.10878815 \\log{\\left(r \\right)}}{\\lambda}} \\left(e^{- \\frac{1151246.10878815 \\int \\frac{\\sqrt{- 3.82778653000218 \\cdot 10^{-9} \\lambda \\left(1.00000107704525 - 1.11008343338313 \\cdot 10^{-21} \\lambda\\right) + 3.82778653000218 \\cdot 10^{-9} \\lambda + 1}}{r}\\, dr}{\\lambda}}\\right) e^{- 0.00220336217396836 \\int \\frac{1.00000107704525 - 1.11008343338313 \\cdot 10^{-21} \\lambda}{r}\\, dr}}{M^{2}{\\left(r \\right)}}\\, dr\\right) \\right)} + 2 \\log{\\left(\\frac{20893747508071.6 r}{M{\\left(r \\right)}} \\right)}\\right) + 1.91389326500109 \\cdot 10^{-9} \\lambda \\log{\\left(r \\right)} - 1.91389326500109 \\cdot 10^{-9} \\lambda \\int \\frac{1.00000107704525 - 1.11008343338313 \\cdot 10^{-21} \\lambda}{r}\\, dr + \\log{\\left(r \\right)} - \\int \\frac{\\sqrt{- 3.82778653000218 \\cdot 10^{-9} \\lambda \\left(1.00000107704525 - 1.11008343338313 \\cdot 10^{-21} \\lambda\\right) + 3.82778653000218 \\cdot 10^{-9} \\lambda + 1}}{r}\\, dr$"
      ],
      "text/plain": [
       "Eq(8.68624e-7*lambda*log(1.00000107704525 - 1.11008343338313e-21*lambda), 8.68624e-7*lambda*(-log(-4.36548684931048e+26*r*(-Integral(r**0.00220336217396836*exp(1151246.10878815*log(r)/lambda)*exp(-1151246.10878815*Integral(sqrt(-3.82778653000218e-9*lambda*(1.00000107704525 - 1.11008343338313e-21*lambda) + 3.82778653000218e-9*lambda + 1)/r, r)/lambda)*exp(-0.00220336217396836*Integral((1.00000107704525 - 1.11008343338313e-21*lambda)/r, r))/M(r)**2, r) + 5.97085457681842e-15*Integral(r**2.00220336217397*exp(1151246.10878815*log(r)/lambda)*exp(-1151246.10878815*Integral(sqrt(-3.82778653000218e-9*lambda*(1.00000107704525 - 1.11008343338313e-21*lambda) + 3.82778653000218e-9*lambda + 1)/r, r)/lambda)*exp(-0.00220336217396836*Integral((1.00000107704525 - 1.11008343338313e-21*lambda)/r, r))/M(r)**2, r))) + 2*log(20893747508071.6*r/M(r))) + 1.91389326500109e-9*lambda*log(r) - 1.91389326500109e-9*lambda*Integral((1.00000107704525 - 1.11008343338313e-21*lambda)/r, r) + log(r) - Integral(sqrt(-3.82778653000218e-9*lambda*(1.00000107704525 - 1.11008343338313e-21*lambda) + 3.82778653000218e-9*lambda + 1)/r, r))"
      ]
     },
     "execution_count": 11,
     "metadata": {},
     "output_type": "execute_result"
    }
   ],
   "source": [
    "equationLambdaValuedN = equationLambda.subs(constants)\n",
    "equationLambdaValuedN"
   ]
  },
  {
   "cell_type": "code",
   "execution_count": 12,
   "id": "fd88e975-a4c2-426e-b8a4-4b467f58a47a",
   "metadata": {},
   "outputs": [
    {
     "data": {
      "text/latex": [
       "$\\displaystyle 8.68624 \\cdot 10^{-7} \\lambda \\log{\\left(1.00000107704525 - 1.11008343338313 \\cdot 10^{-21} \\lambda \\right)} = 8.68624 \\cdot 10^{-7} \\lambda \\left(2 \\log{\\left(\\frac{3.3627276032304 \\cdot 10^{16}}{\\pi r^{2}} \\right)} - \\log{\\left(- 4.36548684931048 \\cdot 10^{26} r \\left(- \\int \\frac{2590303.74477334 e^{\\frac{1151246.10878815 \\log{\\left(r \\right)}}{\\lambda}} \\left(e^{- \\frac{1151246.10878815 \\int \\frac{\\sqrt{- 3.82778653000218 \\cdot 10^{-9} \\lambda \\left(1.00000107704525 - 1.11008343338313 \\cdot 10^{-21} \\lambda\\right) + 3.82778653000218 \\cdot 10^{-9} \\lambda + 1}}{r}\\, dr}{\\lambda}}\\right) e^{- 0.00220336217396836 \\int \\frac{1.00000107704525 - 1.11008343338313 \\cdot 10^{-21} \\lambda}{r}\\, dr}}{\\pi^{2} r^{5.99779663782603}}\\, dr + 5.97085457681842 \\cdot 10^{-15} \\int \\frac{2590303.74477334 e^{\\frac{1151246.10878815 \\log{\\left(r \\right)}}{\\lambda}} \\left(e^{- \\frac{1151246.10878815 \\int \\frac{\\sqrt{- 3.82778653000218 \\cdot 10^{-9} \\lambda \\left(1.00000107704525 - 1.11008343338313 \\cdot 10^{-21} \\lambda\\right) + 3.82778653000218 \\cdot 10^{-9} \\lambda + 1}}{r}\\, dr}{\\lambda}}\\right) e^{- 0.00220336217396836 \\int \\frac{1.00000107704525 - 1.11008343338313 \\cdot 10^{-21} \\lambda}{r}\\, dr}}{\\pi^{2} r^{3.99779663782603}}\\, dr\\right) \\right)}\\right) + 1.91389326500109 \\cdot 10^{-9} \\lambda \\log{\\left(r \\right)} - 1.91389326500109 \\cdot 10^{-9} \\lambda \\int \\frac{1.00000107704525 - 1.11008343338313 \\cdot 10^{-21} \\lambda}{r}\\, dr + \\log{\\left(r \\right)} - \\int \\frac{\\sqrt{- 3.82778653000218 \\cdot 10^{-9} \\lambda \\left(1.00000107704525 - 1.11008343338313 \\cdot 10^{-21} \\lambda\\right) + 3.82778653000218 \\cdot 10^{-9} \\lambda + 1}}{r}\\, dr$"
      ],
      "text/plain": [
       "Eq(8.68624e-7*lambda*log(1.00000107704525 - 1.11008343338313e-21*lambda), 8.68624e-7*lambda*(2*log(3.3627276032304e+16/(pi*r**2)) - log(-4.36548684931048e+26*r*(-Integral(2590303.74477334*exp(1151246.10878815*log(r)/lambda)*exp(-1151246.10878815*Integral(sqrt(-3.82778653000218e-9*lambda*(1.00000107704525 - 1.11008343338313e-21*lambda) + 3.82778653000218e-9*lambda + 1)/r, r)/lambda)*exp(-0.00220336217396836*Integral((1.00000107704525 - 1.11008343338313e-21*lambda)/r, r))/(pi**2*r**5.99779663782603), r) + 5.97085457681842e-15*Integral(2590303.74477334*exp(1151246.10878815*log(r)/lambda)*exp(-1151246.10878815*Integral(sqrt(-3.82778653000218e-9*lambda*(1.00000107704525 - 1.11008343338313e-21*lambda) + 3.82778653000218e-9*lambda + 1)/r, r)/lambda)*exp(-0.00220336217396836*Integral((1.00000107704525 - 1.11008343338313e-21*lambda)/r, r))/(pi**2*r**3.99779663782603), r)))) + 1.91389326500109e-9*lambda*log(r) - 1.91389326500109e-9*lambda*Integral((1.00000107704525 - 1.11008343338313e-21*lambda)/r, r) + log(r) - Integral(sqrt(-3.82778653000218e-9*lambda*(1.00000107704525 - 1.11008343338313e-21*lambda) + 3.82778653000218e-9*lambda + 1)/r, r))"
      ]
     },
     "execution_count": 12,
     "metadata": {},
     "output_type": "execute_result"
    }
   ],
   "source": [
    "equationLambdaValuedN1=equationLambdaValuedN.subs(M,insideDistribution)\n",
    "equationLambdaValuedN1"
   ]
  },
  {
   "cell_type": "code",
   "execution_count": 13,
   "id": "e78043de-2fac-4272-aa68-a55407f0583f",
   "metadata": {},
   "outputs": [
    {
     "data": {
      "text/latex": [
       "$\\displaystyle 8.68624 \\cdot 10^{-7} \\lambda \\log{\\left(1.00000107704525 - 1.11008343338313 \\cdot 10^{-21} \\lambda \\right)} = - 1.91389326500109 \\cdot 10^{-9} \\lambda \\left(1.00000107704525 - 1.11008343338313 \\cdot 10^{-21} \\lambda\\right) \\log{\\left(r \\right)} + 8.68624 \\cdot 10^{-7} \\lambda \\left(2 \\log{\\left(\\frac{3.3627276032304 \\cdot 10^{16}}{\\pi r^{2}} \\right)} - \\log{\\left(- 4.36548684931048 \\cdot 10^{26} r \\left(- \\int\\limits_{r_{s}}^{r_{e}} \\frac{2590303.74477334 e^{\\frac{1151246.10878815 \\log{\\left(r \\right)}}{\\lambda}} e^{- 0.00220336217396836 \\cdot \\left(1.00000107704525 - 1.11008343338313 \\cdot 10^{-21} \\lambda\\right) \\log{\\left(r \\right)}} e^{- \\frac{1151246.10878815 \\sqrt{4.24916241348253 \\cdot 10^{-30} \\lambda^{2} - 4.12269931631435 \\cdot 10^{-15} \\lambda + 1} \\log{\\left(r \\right)}}{\\lambda}}}{\\pi^{2} r^{5.99779663782603}}\\, dr + 5.97085457681842 \\cdot 10^{-15} \\int\\limits_{r_{s}}^{r_{e}} \\frac{2590303.74477334 e^{\\frac{1151246.10878815 \\log{\\left(r \\right)}}{\\lambda}} e^{- 0.00220336217396836 \\cdot \\left(1.00000107704525 - 1.11008343338313 \\cdot 10^{-21} \\lambda\\right) \\log{\\left(r \\right)}} e^{- \\frac{1151246.10878815 \\sqrt{4.24916241348253 \\cdot 10^{-30} \\lambda^{2} - 4.12269931631435 \\cdot 10^{-15} \\lambda + 1} \\log{\\left(r \\right)}}{\\lambda}}}{\\pi^{2} r^{3.99779663782603}}\\, dr\\right) \\right)}\\right) + 1.91389326500109 \\cdot 10^{-9} \\lambda \\log{\\left(r \\right)} - \\sqrt{4.24916241348253 \\cdot 10^{-30} \\lambda^{2} - 4.12269931631435 \\cdot 10^{-15} \\lambda + 1} \\log{\\left(r \\right)} + \\log{\\left(r \\right)}$"
      ],
      "text/plain": [
       "Eq(8.68624e-7*lambda*log(1.00000107704525 - 1.11008343338313e-21*lambda), -1.91389326500109e-9*lambda*(1.00000107704525 - 1.11008343338313e-21*lambda)*log(r) + 8.68624e-7*lambda*(2*log(3.3627276032304e+16/(pi*r**2)) - log(-4.36548684931048e+26*r*(-Integral(2590303.74477334*exp(1151246.10878815*log(r)/lambda)*exp(-0.00220336217396836*(1.00000107704525 - 1.11008343338313e-21*lambda)*log(r))*exp(-1151246.10878815*sqrt(4.24916241348253e-30*lambda**2 - 4.12269931631435e-15*lambda + 1)*log(r)/lambda)/(pi**2*r**5.99779663782603), (r, r_s, r_e)) + 5.97085457681842e-15*Integral(2590303.74477334*exp(1151246.10878815*log(r)/lambda)*exp(-0.00220336217396836*(1.00000107704525 - 1.11008343338313e-21*lambda)*log(r))*exp(-1151246.10878815*sqrt(4.24916241348253e-30*lambda**2 - 4.12269931631435e-15*lambda + 1)*log(r)/lambda)/(pi**2*r**3.99779663782603), (r, r_s, r_e))))) + 1.91389326500109e-9*lambda*log(r) - sqrt(4.24916241348253e-30*lambda**2 - 4.12269931631435e-15*lambda + 1)*log(r) + log(r))"
      ]
     },
     "execution_count": 13,
     "metadata": {},
     "output_type": "execute_result"
    }
   ],
   "source": [
    "a0=equationLambdaValuedN1.rhs.args[0]\n",
    "a0L=ConvertIndefinate2DefinateDeep(IntegralDeepClean(a0),(rs,re))\n",
    "a1=equationLambdaValuedN1.rhs.args[1]\n",
    "a1L=ConvertIndefinate2DefinateDeep(IntegralDeepClean(a1),(rs,re))\n",
    "a2=equationLambdaValuedN1.rhs.args[2]\n",
    "a2L=ConvertIndefinate2DefinateDeep(IntegralDeepClean(a2),(rs,re))\n",
    "a3=equationLambdaValuedN1.rhs.args[3]\n",
    "a3L=ConvertIndefinate2DefinateDeep(IntegralDeepClean(a3),(rs,re))\n",
    "a4=equationLambdaValuedN1.rhs.args[4]\n",
    "a4L=ConvertIndefinate2DefinateDeep(IntegralDeepClean(a4),(rs,re))\n",
    "\n",
    "\n",
    "equationLambdaValuedN2=equationLambdaValuedN1.subs({a0:a0L,a1:a1L,a2:a2L,a3:a3L,a4:a4L})\n",
    "equationLambdaValuedN2"
   ]
  },
  {
   "cell_type": "code",
   "execution_count": 14,
   "id": "a527a355-cefd-4194-a13d-86aa831f8f94",
   "metadata": {},
   "outputs": [
    {
     "data": {
      "text/latex": [
       "$\\displaystyle 8.68624 \\cdot 10^{-7} \\lambda \\log{\\left(1.00000107704525 - 1.11008343338313 \\cdot 10^{-21} \\lambda \\right)} = - 1.98236142330244 \\cdot 10^{-8} \\lambda \\left(1.00000107704525 - 1.11008343338313 \\cdot 10^{-21} \\lambda\\right) + 8.68624 \\cdot 10^{-7} \\lambda \\left(- \\log{\\left(1.3751283575328 \\cdot 10^{31} \\int\\limits_{1.0 \\cdot 10^{-10}}^{31500.0} \\frac{2590303.74477334 e^{\\frac{1151246.10878815 \\log{\\left(r \\right)}}{\\lambda}} e^{- 0.00220336217396836 \\cdot \\left(1.00000107704525 - 1.11008343338313 \\cdot 10^{-21} \\lambda\\right) \\log{\\left(r \\right)}} e^{- \\frac{1151246.10878815 \\sqrt{4.24916241348253 \\cdot 10^{-30} \\lambda^{2} - 4.12269931631435 \\cdot 10^{-15} \\lambda + 1} \\log{\\left(r \\right)}}{\\lambda}}}{\\pi^{2} r^{5.99779663782603}}\\, dr - 8.21069144728752 \\cdot 10^{16} \\int\\limits_{1.0 \\cdot 10^{-10}}^{31500.0} \\frac{2590303.74477334 e^{\\frac{1151246.10878815 \\log{\\left(r \\right)}}{\\lambda}} e^{- 0.00220336217396836 \\cdot \\left(1.00000107704525 - 1.11008343338313 \\cdot 10^{-21} \\lambda\\right) \\log{\\left(r \\right)}} e^{- \\frac{1151246.10878815 \\sqrt{4.24916241348253 \\cdot 10^{-30} \\lambda^{2} - 4.12269931631435 \\cdot 10^{-15} \\lambda + 1} \\log{\\left(r \\right)}}{\\lambda}}}{\\pi^{2} r^{3.99779663782603}}\\, dr \\right)} + 2 \\log{\\left(\\frac{33889922.9350507}{\\pi} \\right)}\\right) + 1.98236142330244 \\cdot 10^{-8} \\lambda - 10.3577428248137 \\sqrt{4.24916241348253 \\cdot 10^{-30} \\lambda^{2} - 4.12269931631435 \\cdot 10^{-15} \\lambda + 1} + 10.3577428248137$"
      ],
      "text/plain": [
       "Eq(8.68624e-7*lambda*log(1.00000107704525 - 1.11008343338313e-21*lambda), -1.98236142330244e-8*lambda*(1.00000107704525 - 1.11008343338313e-21*lambda) + 8.68624e-7*lambda*(-log(1.3751283575328e+31*Integral(2590303.74477334*exp(1151246.10878815*log(r)/lambda)*exp(-0.00220336217396836*(1.00000107704525 - 1.11008343338313e-21*lambda)*log(r))*exp(-1151246.10878815*sqrt(4.24916241348253e-30*lambda**2 - 4.12269931631435e-15*lambda + 1)*log(r)/lambda)/(pi**2*r**5.99779663782603), (r, 1.0e-10, 31500.0)) - 8.21069144728752e+16*Integral(2590303.74477334*exp(1151246.10878815*log(r)/lambda)*exp(-0.00220336217396836*(1.00000107704525 - 1.11008343338313e-21*lambda)*log(r))*exp(-1151246.10878815*sqrt(4.24916241348253e-30*lambda**2 - 4.12269931631435e-15*lambda + 1)*log(r)/lambda)/(pi**2*r**3.99779663782603), (r, 1.0e-10, 31500.0))) + 2*log(33889922.9350507/pi)) + 1.98236142330244e-8*lambda - 10.3577428248137*sqrt(4.24916241348253e-30*lambda**2 - 4.12269931631435e-15*lambda + 1) + 10.3577428248137)"
      ]
     },
     "execution_count": 14,
     "metadata": {},
     "output_type": "execute_result"
    }
   ],
   "source": [
    "rstart=0.0000000001\n",
    "rend=r_N\n",
    "atR=r_N\n",
    "rConstants={r:atR,rs:rstart,re:rend}\n",
    "equationLambdaValuedN3=equationLambdaValuedN2.subs(rConstants)\n",
    "equationLambdaValuedN3"
   ]
  },
  {
   "cell_type": "code",
   "execution_count": 15,
   "id": "9eb69785-f927-4368-b38c-b7aca3942305",
   "metadata": {},
   "outputs": [
    {
     "data": {
      "text/latex": [
       "$\\displaystyle 8.68624 \\cdot 10^{-7} \\lambda \\log{\\left(1.00000107704525 - 1.11008343338313 \\cdot 10^{-21} \\lambda \\right)} = - 1.98236142330244 \\cdot 10^{-8} \\lambda \\left(1.00000107704525 - 1.11008343338313 \\cdot 10^{-21} \\lambda\\right) + 8.68624 \\cdot 10^{-7} \\lambda \\left(- \\log{\\left(1.3751283575328 \\cdot 10^{31} \\int\\limits_{1.0 \\cdot 10^{-10}}^{31500.0} \\frac{2590303.74477334 e^{\\left(2.44591584706532 \\cdot 10^{-24} \\lambda - 0.00220336454708913 - \\frac{1151246.10878815 \\sqrt{4.24916241348253 \\cdot 10^{-30} \\lambda^{2} - 4.12269931631435 \\cdot 10^{-15} \\lambda + 1}}{\\lambda} + \\frac{1151246.10878815}{\\lambda}\\right) \\log{\\left(r \\right)}}}{\\pi^{2} r^{5.99779663782603}}\\, dr - 8.21069144728752 \\cdot 10^{16} \\int\\limits_{1.0 \\cdot 10^{-10}}^{31500.0} \\frac{2590303.74477334 e^{\\left(2.44591584706532 \\cdot 10^{-24} \\lambda - 0.00220336454708913 - \\frac{1151246.10878815 \\sqrt{4.24916241348253 \\cdot 10^{-30} \\lambda^{2} - 4.12269931631435 \\cdot 10^{-15} \\lambda + 1}}{\\lambda} + \\frac{1151246.10878815}{\\lambda}\\right) \\log{\\left(r \\right)}}}{\\pi^{2} r^{3.99779663782603}}\\, dr \\right)} + 2 \\log{\\left(\\frac{33889922.9350507}{\\pi} \\right)}\\right) + 1.98236142330244 \\cdot 10^{-8} \\lambda - 10.3577428248137 \\sqrt{4.24916241348253 \\cdot 10^{-30} \\lambda^{2} - 4.12269931631435 \\cdot 10^{-15} \\lambda + 1} + 10.3577428248137$"
      ],
      "text/plain": [
       "Eq(8.68624e-7*lambda*log(1.00000107704525 - 1.11008343338313e-21*lambda), -1.98236142330244e-8*lambda*(1.00000107704525 - 1.11008343338313e-21*lambda) + 8.68624e-7*lambda*(-log(1.3751283575328e+31*Integral(2590303.74477334*exp((2.44591584706532e-24*lambda - 0.00220336454708913 - 1151246.10878815*sqrt(4.24916241348253e-30*lambda**2 - 4.12269931631435e-15*lambda + 1)/lambda + 1151246.10878815/lambda)*log(r))/(pi**2*r**5.99779663782603), (r, 1.0e-10, 31500.0)) - 8.21069144728752e+16*Integral(2590303.74477334*exp((2.44591584706532e-24*lambda - 0.00220336454708913 - 1151246.10878815*sqrt(4.24916241348253e-30*lambda**2 - 4.12269931631435e-15*lambda + 1)/lambda + 1151246.10878815/lambda)*log(r))/(pi**2*r**3.99779663782603), (r, 1.0e-10, 31500.0))) + 2*log(33889922.9350507/pi)) + 1.98236142330244e-8*lambda - 10.3577428248137*sqrt(4.24916241348253e-30*lambda**2 - 4.12269931631435e-15*lambda + 1) + 10.3577428248137)"
      ]
     },
     "execution_count": 15,
     "metadata": {},
     "output_type": "execute_result"
    }
   ],
   "source": [
    "a0=equationLambdaValuedN3.rhs.args[0]\n",
    "a0L=IntegrandDeepClean(a0)\n",
    "a1=equationLambdaValuedN3.rhs.args[1]\n",
    "a1L=IntegrandDeepClean(a1)\n",
    "a2=equationLambdaValuedN3.rhs.args[2]\n",
    "a2L=IntegrandDeepClean(a2)\n",
    "a3=equationLambdaValuedN3.rhs.args[3]\n",
    "a3L=IntegrandDeepClean(a3)\n",
    "a4=equationLambdaValuedN3.rhs.args[4]\n",
    "a4L=IntegrandDeepClean(a4)\n",
    "\n",
    "\n",
    "equationLambdaValuedN4=equationLambdaValuedN3.subs({a0:a0L,a1:a1L,a2:a2L,a3:a3L,a4:a4L})\n",
    "equationLambdaValuedN4"
   ]
  },
  {
   "cell_type": "code",
   "execution_count": 16,
   "id": "e965cd2d-4a26-41f3-b23e-7f131d4cb1d3",
   "metadata": {},
   "outputs": [
    {
     "data": {
      "text/latex": [
       "$\\displaystyle 8.68624 \\cdot 10^{-7} \\lambda \\log{\\left(1.00000107704525 - 1.11008343338313 \\cdot 10^{-21} \\lambda \\right)} = - 1.98236142330244 \\cdot 10^{-8} \\lambda \\left(1.00000107704525 - 1.11008343338313 \\cdot 10^{-21} \\lambda\\right) + 8.68624 \\cdot 10^{-7} \\lambda \\left(- \\log{\\left(\\frac{8.45050576294127 \\cdot 10^{76} e^{\\frac{2.44591584706532 \\cdot 10^{-24} \\lambda^{2} - 1151246.10878815 \\sqrt{4.24916241348253 \\cdot 10^{-30} \\lambda^{2} - 4.12269931631435 \\cdot 10^{-15} \\lambda + 1} + 1151246.10878815}{\\lambda}}}{\\pi^{2}} \\right)} + 2 \\log{\\left(\\frac{33889922.9350507}{\\pi} \\right)}\\right) + 1.98236142330244 \\cdot 10^{-8} \\lambda - 10.3577428248137 \\sqrt{4.24916241348253 \\cdot 10^{-30} \\lambda^{2} - 4.12269931631435 \\cdot 10^{-15} \\lambda + 1} + 10.3577428248137$"
      ],
      "text/plain": [
       "Eq(8.68624e-7*lambda*log(1.00000107704525 - 1.11008343338313e-21*lambda), -1.98236142330244e-8*lambda*(1.00000107704525 - 1.11008343338313e-21*lambda) + 8.68624e-7*lambda*(-log(8.45050576294127e+76*exp((2.44591584706532e-24*lambda**2 - 1151246.10878815*sqrt(4.24916241348253e-30*lambda**2 - 4.12269931631435e-15*lambda + 1) + 1151246.10878815)/lambda)/pi**2) + 2*log(33889922.9350507/pi)) + 1.98236142330244e-8*lambda - 10.3577428248137*sqrt(4.24916241348253e-30*lambda**2 - 4.12269931631435e-15*lambda + 1) + 10.3577428248137)"
      ]
     },
     "execution_count": 16,
     "metadata": {},
     "output_type": "execute_result"
    }
   ],
   "source": [
    "equationLambdaValuedN5=IntegralDeepSepration(equationLambdaValuedN4)\n",
    "equationLambdaValuedN5"
   ]
  },
  {
   "cell_type": "code",
   "execution_count": 17,
   "id": "58670803-0815-4217-be3f-321c3583b415",
   "metadata": {},
   "outputs": [
    {
     "data": {
      "text/latex": [
       "$\\displaystyle 8.68624 \\cdot 10^{-7} \\lambda \\log{\\left(1.00000107704525 - 1.11008343338313 \\cdot 10^{-21} \\lambda \\right)} = 1.98812845431171 \\cdot 10^{-29} \\lambda^{2} - 0.000123738474127001 \\lambda - 9.35774282481372 \\sqrt{4.24916241348253 \\cdot 10^{-30} \\lambda^{2} - 4.12269931631435 \\cdot 10^{-15} \\lambda + 1} + 9.35774282481372$"
      ],
      "text/plain": [
       "Eq(8.68624e-7*lambda*log(1.00000107704525 - 1.11008343338313e-21*lambda), 1.98812845431171e-29*lambda**2 - 0.000123738474127001*lambda - 9.35774282481372*sqrt(4.24916241348253e-30*lambda**2 - 4.12269931631435e-15*lambda + 1) + 9.35774282481372)"
      ]
     },
     "execution_count": 17,
     "metadata": {},
     "output_type": "execute_result"
    }
   ],
   "source": [
    "equationLambdaValuedN6=LogCleaning(equationLambdaValuedN5.simplify()).simplify()\n",
    "equationLambdaValuedN6"
   ]
  },
  {
   "cell_type": "code",
   "execution_count": 18,
   "id": "ab0716bc-146f-44a4-ba4b-3113950aa224",
   "metadata": {},
   "outputs": [
    {
     "data": {
      "text/plain": [
       "'8.68624 \\\\cdot 10^{-7} \\\\lambda \\\\log{\\\\left(1.00000107704525 - 1.11008343338313 \\\\cdot 10^{-21} \\\\lambda \\\\right)} = 1.98812845431171 \\\\cdot 10^{-29} \\\\lambda^{2} - 0.000123738474127001 \\\\lambda - 9.35774282481372 \\\\sqrt{4.24916241348253 \\\\cdot 10^{-30} \\\\lambda^{2} - 4.12269931631435 \\\\cdot 10^{-15} \\\\lambda + 1} + 9.35774282481372'"
      ]
     },
     "execution_count": 18,
     "metadata": {},
     "output_type": "execute_result"
    }
   ],
   "source": [
    "latex(equationLambdaValuedN6)"
   ]
  },
  {
   "cell_type": "code",
   "execution_count": 19,
   "id": "de886685-1026-4f16-9954-9fd81c5efa40",
   "metadata": {},
   "outputs": [],
   "source": [
    "equationLambdaValuedSimplified_str = srepr(equationLambdaValuedN4)\n",
    "with open('equationLambdaValued.txt', 'w') as file:\n",
    "    file.write(equationLambdaValuedSimplified_str)\n",
    "\n",
    "equationLambdaValuedSimplified_str = srepr(equationLambdaValuedN6)\n",
    "with open('equationLambdaValued1.txt', 'w') as file:\n",
    "    file.write(equationLambdaValuedSimplified_str)"
   ]
  },
  {
   "cell_type": "markdown",
   "id": "b562166e-76b9-4a61-a37d-6d194986acc7",
   "metadata": {},
   "source": [
    "# Finding Lambda Value Numerically"
   ]
  },
  {
   "cell_type": "code",
   "execution_count": 20,
   "id": "26077d4a-571f-4296-8a7e-deec57199542",
   "metadata": {},
   "outputs": [
    {
     "data": {
      "text/latex": [
       "$\\displaystyle 8.68624 \\cdot 10^{-7} \\lambda \\log{\\left(1.00000107704525 - 1.11008343338313 \\cdot 10^{-21} \\lambda \\right)} = 1.98812845431171 \\cdot 10^{-29} \\lambda^{2} - 0.000123738474127001 \\lambda - 9.35774282481372 \\sqrt{4.24916241348253 \\cdot 10^{-30} \\lambda^{2} - 4.12269931631435 \\cdot 10^{-15} \\lambda + 1} + 9.35774282481372$"
      ],
      "text/plain": [
       "Eq(8.68624e-7*lambda*log(1.00000107704525 - 1.11008343338313e-21*lambda), 1.98812845431171e-29*lambda**2 - 0.000123738474127001*lambda - 9.35774282481372*sqrt(4.24916241348253e-30*lambda**2 - 4.12269931631435e-15*lambda + 1) + 9.35774282481372)"
      ]
     },
     "execution_count": 20,
     "metadata": {},
     "output_type": "execute_result"
    }
   ],
   "source": [
    "with open('equationLambdaValued1.txt', 'r') as file:\n",
    "    equation_str = file.read()\n",
    "equationLambdaValuedSimplified = parse_expr(equation_str, evaluate=False)\n",
    "equationLambdaValuedSimplified"
   ]
  },
  {
   "cell_type": "code",
   "execution_count": 21,
   "id": "75feab4b-e264-4a93-8f12-309f592df2ef",
   "metadata": {},
   "outputs": [
    {
     "data": {
      "text/latex": [
       "$\\displaystyle 1.98812845431171 \\cdot 10^{-29} \\lambda^{2} - 8.68624 \\cdot 10^{-7} \\lambda \\log{\\left(1.00000107704525 - 1.11008343338313 \\cdot 10^{-21} \\lambda \\right)} - 0.000123738474127001 \\lambda - 9.35774282481372 \\sqrt{4.24916241348253 \\cdot 10^{-30} \\lambda^{2} - 4.12269931631435 \\cdot 10^{-15} \\lambda + 1} + 9.35774282481372 = 0$"
      ],
      "text/plain": [
       "Eq(1.98812845431171e-29*lambda**2 - 8.68624e-7*lambda*log(1.00000107704525 - 1.11008343338313e-21*lambda) - 0.000123738474127001*lambda - 9.35774282481372*sqrt(4.24916241348253e-30*lambda**2 - 4.12269931631435e-15*lambda + 1) + 9.35774282481372, 0)"
      ]
     },
     "execution_count": 21,
     "metadata": {},
     "output_type": "execute_result"
    }
   ],
   "source": [
    "equationLambdaValuedSimplified=Eq(equationLambdaValuedSimplified.lhs-equationLambdaValuedSimplified.lhs,equationLambdaValuedSimplified.rhs-equationLambdaValuedSimplified.lhs)\n",
    "equationLambdaValuedSimplified=Eq(equationLambdaValuedSimplified.rhs,equationLambdaValuedSimplified.lhs)\n",
    "equationLambdaValuedSimplified"
   ]
  },
  {
   "cell_type": "code",
   "execution_count": 22,
   "id": "73ba312f-e0fc-4bd8-a38a-1ff3ca628b81",
   "metadata": {},
   "outputs": [],
   "source": [
    "func = smp.lambdify((lambda_), equationLambdaValuedSimplified.lhs, 'numpy')\n",
    "def numerical_eq(lambda_):\n",
    "    return func(lambda_)"
   ]
  },
  {
   "cell_type": "code",
   "execution_count": 23,
   "id": "91860c72-bd89-47cc-a640-2d81c0e4e4b3",
   "metadata": {},
   "outputs": [
    {
     "name": "stdout",
     "output_type": "stream",
     "text": [
      "Lambda Value is 1.8073707135947414e-13\n"
     ]
    },
    {
     "data": {
      "text/plain": [
       "      converged: True\n",
       "           flag: converged\n",
       " function_calls: 7\n",
       "     iterations: 6\n",
       "           root: 1.8073707135947414e-13"
      ]
     },
     "execution_count": 23,
     "metadata": {},
     "output_type": "execute_result"
    }
   ],
   "source": [
    "Guess=10**20\n",
    "Values=[]\n",
    "\n",
    "brentqSol = root_scalar(numerical_eq, bracket=[-Guess,Guess], method='brentq')\n",
    "lambdaValue=brentqSol.root\n",
    "print('Lambda Value is',lambdaValue)\n",
    "brentqSol"
   ]
  },
  {
   "cell_type": "markdown",
   "id": "3ad14a77-2253-4173-8cbd-3f4b7bb27fa2",
   "metadata": {},
   "source": [
    "# Finding mu and Vtg"
   ]
  },
  {
   "cell_type": "code",
   "execution_count": 24,
   "id": "95b14767-be6e-4683-acba-129134d19368",
   "metadata": {},
   "outputs": [
    {
     "data": {
      "text/latex": [
       "$\\displaystyle 4 \\lambda \\rho^{2} \\mu{\\left(r \\right)} = c^{4} \\lambda \\rho^{2} \\log{\\left(r \\right)} - c^{4} \\lambda \\rho^{2} \\int \\frac{e^{\\mu{\\left(r \\right)}}}{r}\\, dr + 4 \\lambda \\rho^{2} \\left(- \\log{\\left(- \\frac{c^{4} r \\left(\\kappa \\rho \\int \\frac{r^{2} e^{\\frac{c^{4} \\log{\\left(r \\right)}}{4}} \\left(e^{- \\frac{c^{4} \\int \\frac{e^{\\mu{\\left(r \\right)}}}{r}\\, dr}{4}}\\right) e^{\\frac{\\log{\\left(r \\right)}}{4 \\lambda \\rho^{2}}} e^{- \\frac{\\int \\frac{\\sqrt{- 2 c^{4} \\lambda \\rho^{2} e^{\\mu{\\left(r \\right)}} + 2 c^{4} \\lambda \\rho^{2} + 1}}{r}\\, dr}{4 \\lambda \\rho^{2}}}}{M^{2}{\\left(r \\right)}}\\, dr - \\int \\frac{e^{\\frac{c^{4} \\log{\\left(r \\right)}}{4}} \\left(e^{- \\frac{c^{4} \\int \\frac{e^{\\mu{\\left(r \\right)}}}{r}\\, dr}{4}}\\right) e^{\\frac{\\log{\\left(r \\right)}}{4 \\lambda \\rho^{2}}} e^{- \\frac{\\int \\frac{\\sqrt{- 2 c^{4} \\lambda \\rho^{2} e^{\\mu{\\left(r \\right)}} + 2 c^{4} \\lambda \\rho^{2} + 1}}{r}\\, dr}{4 \\lambda \\rho^{2}}}}{M^{2}{\\left(r \\right)}}\\, dr\\right)}{G^{2}} \\right)} + 2 \\log{\\left(\\frac{c^{2} r}{G M{\\left(r \\right)}} \\right)}\\right) + \\log{\\left(r \\right)} - \\int \\frac{\\sqrt{- 2 c^{4} \\lambda \\rho^{2} e^{\\mu{\\left(r \\right)}} + 2 c^{4} \\lambda \\rho^{2} + 1}}{r}\\, dr$"
      ],
      "text/plain": [
       "Eq(4*lambda*rho**2*mu(r), c**4*lambda*rho**2*log(r) - c**4*lambda*rho**2*Integral(exp(mu(r))/r, r) + 4*lambda*rho**2*(-log(-c**4*r*(kappa*rho*Integral(r**2*exp(c**4*log(r)/4)*exp(-c**4*Integral(exp(mu(r))/r, r)/4)*exp(log(r)/(4*lambda*rho**2))*exp(-Integral(sqrt(-2*c**4*lambda*rho**2*exp(mu(r)) + 2*c**4*lambda*rho**2 + 1)/r, r)/(4*lambda*rho**2))/M(r)**2, r) - Integral(exp(c**4*log(r)/4)*exp(-c**4*Integral(exp(mu(r))/r, r)/4)*exp(log(r)/(4*lambda*rho**2))*exp(-Integral(sqrt(-2*c**4*lambda*rho**2*exp(mu(r)) + 2*c**4*lambda*rho**2 + 1)/r, r)/(4*lambda*rho**2))/M(r)**2, r))/G**2) + 2*log(c**2*r/(G*M(r)))) + log(r) - Integral(sqrt(-2*c**4*lambda*rho**2*exp(mu(r)) + 2*c**4*lambda*rho**2 + 1)/r, r))"
      ]
     },
     "execution_count": 24,
     "metadata": {},
     "output_type": "execute_result"
    }
   ],
   "source": [
    "with open('EquationMu.txt', 'r') as file:\n",
    "    equation_str = file.read()\n",
    "muLoaded = parse_expr(equation_str, evaluate=False)\n",
    "muLoaded"
   ]
  },
  {
   "cell_type": "code",
   "execution_count": 25,
   "id": "896ea589-5d56-45e9-831e-cd84516a0ec9",
   "metadata": {},
   "outputs": [
    {
     "data": {
      "text/plain": [
       "{G: 4.493208773765747e-15,\n",
       " kappa: 1.2812992654116785e-11,\n",
       " rho: 0.0004660000000000001,\n",
       " c: 0.30639838384057033,\n",
       " v_tg: 0.00022484769928710305,\n",
       " lambda: 1.8073707135947414e-13}"
      ]
     },
     "execution_count": 25,
     "metadata": {},
     "output_type": "execute_result"
    }
   ],
   "source": [
    "constants1=dict(constants)\n",
    "constants1[lambda_]=1.8073707135947414e-13\n",
    "constants1"
   ]
  },
  {
   "cell_type": "code",
   "execution_count": 26,
   "id": "cb7d1e7f-1c50-4753-bb3b-4ec17fe6fd28",
   "metadata": {},
   "outputs": [
    {
     "data": {
      "text/latex": [
       "$\\displaystyle 1.56992557872552 \\cdot 10^{-19} \\mu{\\left(r \\right)} = 1.0 \\log{\\left(r \\right)} + 3.13985115745104 \\cdot 10^{-19} \\log{\\left(\\frac{20893747508071.6 r}{M{\\left(r \\right)}} \\right)} - 1.56992557872552 \\cdot 10^{-19} \\log{\\left(4.36548684931045 \\cdot 10^{26} r \\int \\frac{r^{6.36972869001733 \\cdot 10^{18}} \\left(e^{- 6.36972869001733 \\cdot 10^{18} \\int \\frac{\\sqrt{1.0 - 6.91822927221838 \\cdot 10^{-22} e^{\\mu{\\left(r \\right)}}}}{r}\\, dr}\\right) e^{- 0.00220336217396836 \\int \\frac{e^{\\mu{\\left(r \\right)}}}{r}\\, dr}}{M^{2}{\\left(r \\right)}}\\, dr \\right)} - \\int \\frac{\\sqrt{1.0 - 6.91822927221838 \\cdot 10^{-22} e^{\\mu{\\left(r \\right)}}}}{r}\\, dr - 3.45911463610919 \\cdot 10^{-22} \\int \\frac{e^{\\mu{\\left(r \\right)}}}{r}\\, dr$"
      ],
      "text/plain": [
       "Eq(1.56992557872552e-19*mu(r), 1.0*log(r) + 3.13985115745104e-19*log(20893747508071.6*r/M(r)) - 1.56992557872552e-19*log(4.36548684931045e+26*r*Integral(r**6.36972869001733e+18*exp(-6.36972869001733e+18*Integral(sqrt(1.0 - 6.91822927221838e-22*exp(mu(r)))/r, r))*exp(-0.00220336217396836*Integral(exp(mu(r))/r, r))/M(r)**2, r)) - Integral(sqrt(1.0 - 6.91822927221838e-22*exp(mu(r)))/r, r) - 3.45911463610919e-22*Integral(exp(mu(r))/r, r))"
      ]
     },
     "execution_count": 26,
     "metadata": {},
     "output_type": "execute_result"
    }
   ],
   "source": [
    "muValued=muLoaded.subs(constants1)\n",
    "muValued"
   ]
  },
  {
   "cell_type": "code",
   "execution_count": 27,
   "id": "21a1be28-d739-442b-92bb-bc9b03e76aa8",
   "metadata": {},
   "outputs": [
    {
     "data": {
      "text/latex": [
       "$\\displaystyle 1.56992557872552 \\cdot 10^{-19} \\mu{\\left(r \\right)} = 1.0 \\log{\\left(r \\right)} + 3.13985115745104 \\cdot 10^{-19} \\log{\\left(\\frac{3.3627276032304 \\cdot 10^{16}}{\\pi r^{2}} \\right)} - 1.56992557872552 \\cdot 10^{-19} \\log{\\left(4.36548684931045 \\cdot 10^{26} r \\int \\frac{2590303.74477334 r^{6.36972869001733 \\cdot 10^{18}} \\left(e^{- 6.36972869001733 \\cdot 10^{18} \\int \\frac{\\sqrt{1.0 - 6.91822927221838 \\cdot 10^{-22} e^{\\mu{\\left(r \\right)}}}}{r}\\, dr}\\right) e^{- 0.00220336217396836 \\int \\frac{e^{\\mu{\\left(r \\right)}}}{r}\\, dr}}{\\pi^{2}}\\, dr \\right)} - \\int \\frac{\\sqrt{1.0 - 6.91822927221838 \\cdot 10^{-22} e^{\\mu{\\left(r \\right)}}}}{r}\\, dr - 3.45911463610919 \\cdot 10^{-22} \\int \\frac{e^{\\mu{\\left(r \\right)}}}{r}\\, dr$"
      ],
      "text/plain": [
       "Eq(1.56992557872552e-19*mu(r), 1.0*log(r) + 3.13985115745104e-19*log(3.3627276032304e+16/(pi*r**2)) - 1.56992557872552e-19*log(4.36548684931045e+26*r*Integral(2590303.74477334*r**6.36972869001733e+18*exp(-6.36972869001733e+18*Integral(sqrt(1.0 - 6.91822927221838e-22*exp(mu(r)))/r, r))*exp(-0.00220336217396836*Integral(exp(mu(r))/r, r))/pi**2, r)) - Integral(sqrt(1.0 - 6.91822927221838e-22*exp(mu(r)))/r, r) - 3.45911463610919e-22*Integral(exp(mu(r))/r, r))"
      ]
     },
     "execution_count": 27,
     "metadata": {},
     "output_type": "execute_result"
    }
   ],
   "source": [
    "muValued1=muValued.subs(M,insideDistribution)\n",
    "muValued1"
   ]
  },
  {
   "cell_type": "code",
   "execution_count": 28,
   "id": "6ae254c4-c3ab-4acd-868e-20252c1f3db5",
   "metadata": {},
   "outputs": [],
   "source": [
    "rLimits={rs:rstart,re:rend}"
   ]
  },
  {
   "cell_type": "code",
   "execution_count": 29,
   "id": "9322652d-e77c-4873-821a-55d911fd8da3",
   "metadata": {},
   "outputs": [
    {
     "data": {
      "text/latex": [
       "$\\displaystyle 1.56992557872552 \\cdot 10^{-19} \\mu{\\left(r \\right)} = 1.0 \\log{\\left(r \\right)} + 3.13985115745104 \\cdot 10^{-19} \\log{\\left(\\frac{3.3627276032304 \\cdot 10^{16}}{\\pi r^{2}} \\right)} - 1.56992557872552 \\cdot 10^{-19} \\log{\\left(4.36548684931045 \\cdot 10^{26} r \\int\\limits_{r_{s}}^{r_{e}} \\frac{2590303.74477334 r^{6.36972869001733 \\cdot 10^{18}} \\left(e^{- 6.36972869001733 \\cdot 10^{18} \\int\\limits_{r_{s}}^{r_{e}} \\frac{\\sqrt{1.0 - 6.91822927221838 \\cdot 10^{-22} e^{\\mu{\\left(r \\right)}}}}{r}\\, dr}\\right) e^{- 0.00220336217396836 \\int\\limits_{r_{s}}^{r_{e}} \\frac{e^{\\mu{\\left(r \\right)}}}{r}\\, dr}}{\\pi^{2}}\\, dr \\right)} - \\int\\limits_{r_{s}}^{r_{e}} \\frac{\\sqrt{1.0 - 6.91822927221838 \\cdot 10^{-22} e^{\\mu{\\left(r \\right)}}}}{r}\\, dr - 3.45911463610919 \\cdot 10^{-22} \\int\\limits_{r_{s}}^{r_{e}} \\frac{e^{\\mu{\\left(r \\right)}}}{r}\\, dr$"
      ],
      "text/plain": [
       "Eq(1.56992557872552e-19*mu(r), 1.0*log(r) + 3.13985115745104e-19*log(3.3627276032304e+16/(pi*r**2)) - 1.56992557872552e-19*log(4.36548684931045e+26*r*Integral(2590303.74477334*r**6.36972869001733e+18*exp(-6.36972869001733e+18*Integral(sqrt(1.0 - 6.91822927221838e-22*exp(mu(r)))/r, (r, r_s, r_e)))*exp(-0.00220336217396836*Integral(exp(mu(r))/r, (r, r_s, r_e)))/pi**2, (r, r_s, r_e))) - Integral(sqrt(1.0 - 6.91822927221838e-22*exp(mu(r)))/r, (r, r_s, r_e)) - 3.45911463610919e-22*Integral(exp(mu(r))/r, (r, r_s, r_e)))"
      ]
     },
     "execution_count": 29,
     "metadata": {},
     "output_type": "execute_result"
    }
   ],
   "source": [
    "a0=muValued1.rhs.args[0]\n",
    "a0L=ConvertIndefinate2DefinateDeep(IntegralDeepClean(a0),(rs,re))\n",
    "a1=muValued1.rhs.args[1]\n",
    "a1L=ConvertIndefinate2DefinateDeep(IntegralDeepClean(a1),(rs,re))\n",
    "a2=muValued1.rhs.args[2]\n",
    "a2L=ConvertIndefinate2DefinateDeep(IntegralDeepClean(a2),(rs,re))\n",
    "a3=muValued1.rhs.args[3]\n",
    "a3L=ConvertIndefinate2DefinateDeep(IntegralDeepClean(a3),(rs,re))\n",
    "a4=muValued1.rhs.args[4]\n",
    "a4L=ConvertIndefinate2DefinateDeep(IntegralDeepClean(a4),(rs,re))\n",
    "\n",
    "muValued2=muValued1.subs({a0:a0L,a1:a1L,a2:a2L,a3:a3L,a4:a4L})\n",
    "muValued2"
   ]
  },
  {
   "cell_type": "code",
   "execution_count": 31,
   "id": "dc291097-2ea0-4a34-993e-eb3b66bf182d",
   "metadata": {},
   "outputs": [
    {
     "data": {
      "text/latex": [
       "$\\displaystyle 1.56992557872552 \\cdot 10^{-19} \\mu{\\left(r \\right)} = 1.0 \\log{\\left(r \\right)} + 3.13985115745104 \\cdot 10^{-19} \\log{\\left(\\frac{3.3627276032304 \\cdot 10^{16}}{\\pi r^{2}} \\right)} - 1.56992557872552 \\cdot 10^{-19} \\log{\\left(4.36548684931045 \\cdot 10^{26} r \\int\\limits_{1.0 \\cdot 10^{-10}}^{31500.0} \\frac{2590303.74477334 r^{6.36972869001733 \\cdot 10^{18}} \\left(e^{- 6.36972869001733 \\cdot 10^{18} \\int\\limits_{1.0 \\cdot 10^{-10}}^{31500.0} \\frac{\\sqrt{1.0 - 6.91822927221838 \\cdot 10^{-22} e^{\\mu{\\left(r \\right)}}}}{r}\\, dr}\\right) e^{- 0.00220336217396836 \\int\\limits_{1.0 \\cdot 10^{-10}}^{31500.0} \\frac{e^{\\mu{\\left(r \\right)}}}{r}\\, dr}}{\\pi^{2}}\\, dr \\right)} - \\int\\limits_{1.0 \\cdot 10^{-10}}^{31500.0} \\frac{\\sqrt{1.0 - 6.91822927221838 \\cdot 10^{-22} e^{\\mu{\\left(r \\right)}}}}{r}\\, dr - 3.45911463610919 \\cdot 10^{-22} \\int\\limits_{1.0 \\cdot 10^{-10}}^{31500.0} \\frac{e^{\\mu{\\left(r \\right)}}}{r}\\, dr$"
      ],
      "text/plain": [
       "Eq(1.56992557872552e-19*mu(r), 1.0*log(r) + 3.13985115745104e-19*log(3.3627276032304e+16/(pi*r**2)) - 1.56992557872552e-19*log(4.36548684931045e+26*r*Integral(2590303.74477334*r**6.36972869001733e+18*exp(-6.36972869001733e+18*Integral(sqrt(1.0 - 6.91822927221838e-22*exp(mu(r)))/r, (r, 1.0e-10, 31500.0)))*exp(-0.00220336217396836*Integral(exp(mu(r))/r, (r, 1.0e-10, 31500.0)))/pi**2, (r, 1.0e-10, 31500.0))) - Integral(sqrt(1.0 - 6.91822927221838e-22*exp(mu(r)))/r, (r, 1.0e-10, 31500.0)) - 3.45911463610919e-22*Integral(exp(mu(r))/r, (r, 1.0e-10, 31500.0)))"
      ]
     },
     "execution_count": 31,
     "metadata": {},
     "output_type": "execute_result"
    }
   ],
   "source": [
    "muValued3=muValued2.subs(rLimits)\n",
    "muValued3"
   ]
  },
  {
   "cell_type": "code",
   "execution_count": 32,
   "id": "d71115fb-5e42-4084-b53e-3d0c542e7be9",
   "metadata": {},
   "outputs": [
    {
     "data": {
      "text/latex": [
       "$\\displaystyle 1.56992557872552 \\cdot 10^{-19} \\mu{\\left(r \\right)} = 3.13985115745104 \\cdot 10^{-19} \\log{\\left(\\frac{1}{r^{2}} \\right)} + 1.0 \\log{\\left(r \\right)} - 1.56992557872552 \\cdot 10^{-19} \\log{\\left(r e^{- 6.36972869001733 \\cdot 10^{18} \\int\\limits_{1.0 \\cdot 10^{-10}}^{31500.0} \\frac{\\sqrt{1.0 - 6.91822927221838 \\cdot 10^{-22} e^{\\mu{\\left(r \\right)}}}}{r}\\, dr - 0.00220336217396836 \\int\\limits_{1.0 \\cdot 10^{-10}}^{31500.0} \\frac{e^{\\mu{\\left(r \\right)}}}{r}\\, dr} \\right)} - 1.0 \\int\\limits_{1.0 \\cdot 10^{-10}}^{31500.0} \\frac{\\sqrt{1.0 - 6.91822927221838 \\cdot 10^{-22} e^{\\mu{\\left(r \\right)}}}}{r}\\, dr - 3.45911463610919 \\cdot 10^{-22} \\int\\limits_{1.0 \\cdot 10^{-10}}^{31500.0} \\frac{e^{\\mu{\\left(r \\right)}}}{r}\\, dr - 10.3577428248137$"
      ],
      "text/plain": [
       "Eq(1.56992557872552e-19*mu(r), 3.13985115745104e-19*log(r**(-2)) + 1.0*log(r) - 1.56992557872552e-19*log(r*exp(-6.36972869001733e+18*Integral(sqrt(1.0 - 6.91822927221838e-22*exp(mu(r)))/r, (r, 1.0e-10, 31500.0)) - 0.00220336217396836*Integral(exp(mu(r))/r, (r, 1.0e-10, 31500.0)))) - 1.0*Integral(sqrt(1.0 - 6.91822927221838e-22*exp(mu(r)))/r, (r, 1.0e-10, 31500.0)) - 3.45911463610919e-22*Integral(exp(mu(r))/r, (r, 1.0e-10, 31500.0)) - 10.3577428248137)"
      ]
     },
     "execution_count": 32,
     "metadata": {},
     "output_type": "execute_result"
    }
   ],
   "source": [
    "muValued4=muValued3.simplify()\n",
    "muValued4"
   ]
  },
  {
   "cell_type": "code",
   "execution_count": 33,
   "id": "1a10e0ee-8105-400b-808b-2f780db4061e",
   "metadata": {},
   "outputs": [
    {
     "data": {
      "text/latex": [
       "$\\displaystyle 1.56992557872552 \\cdot 10^{-19} \\mu{\\left(r \\right)} = 1.0 \\log{\\left(r \\right)} - 1.11022302462516 \\cdot 10^{-16} \\int\\limits_{1.0 \\cdot 10^{-10}}^{31500.0} \\frac{\\sqrt{1.0 - 6.91822927221838 \\cdot 10^{-22} e^{\\mu{\\left(r \\right)}}}}{r}\\, dr - 4.70197740328915 \\cdot 10^{-38} \\int\\limits_{1.0 \\cdot 10^{-10}}^{31500.0} \\frac{e^{\\mu{\\left(r \\right)}}}{r}\\, dr - 10.3577428248137$"
      ],
      "text/plain": [
       "Eq(1.56992557872552e-19*mu(r), 1.0*log(r) - 1.11022302462516e-16*Integral(sqrt(1.0 - 6.91822927221838e-22*exp(mu(r)))/r, (r, 1.0e-10, 31500.0)) - 4.70197740328915e-38*Integral(exp(mu(r))/r, (r, 1.0e-10, 31500.0)) - 10.3577428248137)"
      ]
     },
     "execution_count": 33,
     "metadata": {},
     "output_type": "execute_result"
    }
   ],
   "source": [
    "muValued5=LogCleaning(muValued4).simplify()\n",
    "muValued5"
   ]
  },
  {
   "cell_type": "code",
   "execution_count": 34,
   "id": "92e88e51-a883-40fc-9aa5-5eff7ff31caf",
   "metadata": {},
   "outputs": [
    {
     "data": {
      "text/latex": [
       "$\\displaystyle 1.56992557872552 \\cdot 10^{-19} \\mu{\\left(r \\right)} - 1.0 \\log{\\left(r \\right)} + 1.11022302462516 \\cdot 10^{-16} \\int\\limits_{1.0 \\cdot 10^{-10}}^{31500.0} \\frac{\\sqrt{1.0 - 6.91822927221838 \\cdot 10^{-22} e^{\\mu{\\left(r \\right)}}}}{r}\\, dr + 4.70197740328915 \\cdot 10^{-38} \\int\\limits_{1.0 \\cdot 10^{-10}}^{31500.0} \\frac{e^{\\mu{\\left(r \\right)}}}{r}\\, dr + 10.3577428248137 = 0$"
      ],
      "text/plain": [
       "Eq(1.56992557872552e-19*mu(r) - 1.0*log(r) + 1.11022302462516e-16*Integral(sqrt(1.0 - 6.91822927221838e-22*exp(mu(r)))/r, (r, 1.0e-10, 31500.0)) + 4.70197740328915e-38*Integral(exp(mu(r))/r, (r, 1.0e-10, 31500.0)) + 10.3577428248137, 0)"
      ]
     },
     "execution_count": 34,
     "metadata": {},
     "output_type": "execute_result"
    }
   ],
   "source": [
    "muValued6=Eq(muValued5.lhs-muValued5.lhs,muValued5.rhs-muValued5.lhs)\n",
    "muValued6=Eq(muValued6.rhs,muValued6.lhs).simplify()\n",
    "muValued6"
   ]
  },
  {
   "cell_type": "code",
   "execution_count": 35,
   "id": "cd7a735f-c165-4070-887c-981d7776372f",
   "metadata": {},
   "outputs": [
    {
     "name": "stdout",
     "output_type": "stream",
     "text": [
      "{Chi, r}\n"
     ]
    },
    {
     "data": {
      "text/latex": [
       "$\\displaystyle 1.56992557872552 \\cdot 10^{-19} \\mathrm{X} + 3.70632344312607 \\cdot 10^{-15} \\sqrt{1.0 - 6.91822927221838 \\cdot 10^{-22} e^{\\mathrm{X}}} + 1.56968903475439 \\cdot 10^{-36} e^{\\mathrm{X}} - 1.0 \\log{\\left(r \\right)} + 10.3577428248137 = 0$"
      ],
      "text/plain": [
       "Eq(1.56992557872552e-19*Chi + 3.70632344312607e-15*sqrt(1.0 - 6.91822927221838e-22*exp(Chi)) + 1.56968903475439e-36*exp(Chi) - 1.0*log(r) + 10.3577428248137, 0)"
      ]
     },
     "execution_count": 35,
     "metadata": {},
     "output_type": "execute_result"
    }
   ],
   "source": [
    "X=symbols('Chi')\n",
    "muSolu1=muValued6.subs(mu,X).simplify()\n",
    "variables = muSolu1.free_symbols\n",
    "print(variables)\n",
    "muSolu1"
   ]
  },
  {
   "cell_type": "code",
   "execution_count": 49,
   "id": "242076e2-0138-42b1-ba5d-dcb432867388",
   "metadata": {},
   "outputs": [
    {
     "data": {
      "text/latex": [
       "$\\displaystyle \\left\\{\\mathrm{X}\\; \\middle|\\; \\mathrm{X} \\in \\mathbb{C} \\wedge 2.46466632273666 \\cdot 10^{-38} \\mathrm{X}^{2} + 4.92858993261177 \\cdot 10^{-55} \\mathrm{X} e^{\\mathrm{X}} - 3.13985115745104 \\cdot 10^{-19} \\mathrm{X} \\log{\\left(r \\right)} + 3.25217707970716 \\cdot 10^{-18} \\mathrm{X} + 2.46392366582817 \\cdot 10^{-72} e^{2 \\mathrm{X}} - 3.13937806950878 \\cdot 10^{-36} e^{\\mathrm{X}} \\log{\\left(r \\right)} + 3.25168706738321 \\cdot 10^{-35} e^{\\mathrm{X}} + 1.0 \\log{\\left(r \\right)}^{2} - 20.7154856496274 \\log{\\left(r \\right)} + 107.28283642498 = 0 \\right\\}$"
      ],
      "text/plain": [
       "ConditionSet(Chi, Eq(2.46466632273666e-38*Chi**2 + 4.92858993261177e-55*Chi*exp(Chi) - 3.13985115745104e-19*Chi*log(r) + 3.25217707970716e-18*Chi + 2.46392366582817e-72*exp(2*Chi) - 3.13937806950878e-36*exp(Chi)*log(r) + 3.25168706738321e-35*exp(Chi) + 1.0*log(r)**2 - 20.7154856496274*log(r) + 107.28283642498, 0), Complexes)"
      ]
     },
     "metadata": {},
     "output_type": "display_data"
    },
    {
     "data": {
      "text/latex": [
       "$\\displaystyle 2.46466632273666 \\cdot 10^{-38} \\mathrm{X}^{2} + 4.92858993261177 \\cdot 10^{-55} \\mathrm{X} e^{\\mathrm{X}} - 3.13985115745104 \\cdot 10^{-19} \\mathrm{X} \\log{\\left(r \\right)} + 3.25217707970716 \\cdot 10^{-18} \\mathrm{X} + 2.46392366582817 \\cdot 10^{-72} e^{2 \\mathrm{X}} - 3.13937806950878 \\cdot 10^{-36} e^{\\mathrm{X}} \\log{\\left(r \\right)} + 3.25168706738321 \\cdot 10^{-35} e^{\\mathrm{X}} + 1.0 \\log{\\left(r \\right)}^{2} - 20.7154856496274 \\log{\\left(r \\right)} + 107.28283642498 = 0$"
      ],
      "text/plain": [
       "Eq(2.46466632273666e-38*Chi**2 + 4.92858993261177e-55*Chi*exp(Chi) - 3.13985115745104e-19*Chi*log(r) + 3.25217707970716e-18*Chi + 2.46392366582817e-72*exp(2*Chi) - 3.13937806950878e-36*exp(Chi)*log(r) + 3.25168706738321e-35*exp(Chi) + 1.0*log(r)**2 - 20.7154856496274*log(r) + 107.28283642498, 0)"
      ]
     },
     "execution_count": 49,
     "metadata": {},
     "output_type": "execute_result"
    }
   ],
   "source": [
    "symbolic_solution = smp.solveset(muSolu1, X)\n",
    "display(symbolic_solution)\n",
    "muSolu=symbolic_solution.args[1].simplify()\n",
    "muSolu"
   ]
  },
  {
   "cell_type": "code",
   "execution_count": 48,
   "id": "8399e592-2272-403d-bcaa-2126d23709d7",
   "metadata": {},
   "outputs": [
    {
     "data": {
      "image/png": "[encoded data removed]",
      "text/plain": [
       "<Figure size 640x480 with 1 Axes>"
      ]
     },
     "metadata": {},
     "output_type": "display_data"
    },
    {
     "data": {
      "text/plain": [
       "<sympy.plotting.plot.Plot at 0x235370d6b10>"
      ]
     },
     "execution_count": 48,
     "metadata": {},
     "output_type": "execute_result"
    }
   ],
   "source": [
    "from sympy.plotting import plot_implicit\n",
    "plot_implicit(muSolu, (r, 0, 10**15))"
   ]
  },
  {
   "cell_type": "code",
   "execution_count": 55,
   "id": "aba194b6-1e4b-417c-a228-bac6302b4511",
   "metadata": {},
   "outputs": [
    {
     "ename": "TypeError",
     "evalue": "loop of ufunc does not support argument 0 of type Symbol which has no callable log method",
     "output_type": "error",
     "traceback": [
      "\u001b[1;31m---------------------------------------------------------------------------\u001b[0m",
      "\u001b[1;31mAttributeError\u001b[0m                            Traceback (most recent call last)",
      "\u001b[1;31mAttributeError\u001b[0m: 'Symbol' object has no attribute 'log'",
      "\nThe above exception was the direct cause of the following exception:\n",
      "\u001b[1;31mTypeError\u001b[0m                                 Traceback (most recent call last)",
      "Cell \u001b[1;32mIn[55], line 7\u001b[0m\n\u001b[0;32m      3\u001b[0m     \u001b[38;5;28;01mreturn\u001b[39;00m funcmu(X)\n\u001b[0;32m      5\u001b[0m Guess\u001b[38;5;241m=\u001b[39m\u001b[38;5;241m10\u001b[39m\u001b[38;5;241m*\u001b[39m\u001b[38;5;241m*\u001b[39m\u001b[38;5;241m-\u001b[39m\u001b[38;5;241m13\u001b[39m\n\u001b[1;32m----> 7\u001b[0m brentqmuSol \u001b[38;5;241m=\u001b[39m \u001b[43mroot_scalar\u001b[49m\u001b[43m(\u001b[49m\u001b[43mnumerical_eqmu\u001b[49m\u001b[43m,\u001b[49m\u001b[43m \u001b[49m\u001b[43mbracket\u001b[49m\u001b[38;5;241;43m=\u001b[39;49m\u001b[43m[\u001b[49m\u001b[38;5;241;43m-\u001b[39;49m\u001b[43mGuess\u001b[49m\u001b[43m,\u001b[49m\u001b[43mGuess\u001b[49m\u001b[43m]\u001b[49m\u001b[43m,\u001b[49m\u001b[43m \u001b[49m\u001b[43mmethod\u001b[49m\u001b[38;5;241;43m=\u001b[39;49m\u001b[38;5;124;43m'\u001b[39;49m\u001b[38;5;124;43mbrentq\u001b[39;49m\u001b[38;5;124;43m'\u001b[39;49m\u001b[43m)\u001b[49m\n\u001b[0;32m      8\u001b[0m muValue\u001b[38;5;241m=\u001b[39mbrentqmuSol\u001b[38;5;241m.\u001b[39mroot\n\u001b[0;32m      9\u001b[0m \u001b[38;5;28mprint\u001b[39m(\u001b[38;5;124m'\u001b[39m\u001b[38;5;124mmu Value is\u001b[39m\u001b[38;5;124m'\u001b[39m,muValue)\n",
      "File \u001b[1;32m~\\AppData\\Local\\Programs\\Python\\Python312\\Lib\\site-packages\\scipy\\optimize\\_root_scalar.py:279\u001b[0m, in \u001b[0;36mroot_scalar\u001b[1;34m(f, args, method, bracket, fprime, fprime2, x0, x1, xtol, rtol, maxiter, options)\u001b[0m\n\u001b[0;32m    277\u001b[0m a, b \u001b[38;5;241m=\u001b[39m bracket[:\u001b[38;5;241m2\u001b[39m]\n\u001b[0;32m    278\u001b[0m \u001b[38;5;28;01mtry\u001b[39;00m:\n\u001b[1;32m--> 279\u001b[0m     r, sol \u001b[38;5;241m=\u001b[39m \u001b[43mmethodc\u001b[49m\u001b[43m(\u001b[49m\u001b[43mf\u001b[49m\u001b[43m,\u001b[49m\u001b[43m \u001b[49m\u001b[43ma\u001b[49m\u001b[43m,\u001b[49m\u001b[43m \u001b[49m\u001b[43mb\u001b[49m\u001b[43m,\u001b[49m\u001b[43m \u001b[49m\u001b[43margs\u001b[49m\u001b[38;5;241;43m=\u001b[39;49m\u001b[43margs\u001b[49m\u001b[43m,\u001b[49m\u001b[43m \u001b[49m\u001b[38;5;241;43m*\u001b[39;49m\u001b[38;5;241;43m*\u001b[39;49m\u001b[43mkwargs\u001b[49m\u001b[43m)\u001b[49m\n\u001b[0;32m    280\u001b[0m \u001b[38;5;28;01mexcept\u001b[39;00m \u001b[38;5;167;01mValueError\u001b[39;00m \u001b[38;5;28;01mas\u001b[39;00m e:\n\u001b[0;32m    281\u001b[0m     \u001b[38;5;66;03m# gh-17622 fixed some bugs in low-level solvers by raising an error\u001b[39;00m\n\u001b[0;32m    282\u001b[0m     \u001b[38;5;66;03m# (rather than returning incorrect results) when the callable\u001b[39;00m\n\u001b[0;32m    283\u001b[0m     \u001b[38;5;66;03m# returns a NaN. It did so by wrapping the callable rather than\u001b[39;00m\n\u001b[0;32m    284\u001b[0m     \u001b[38;5;66;03m# modifying compiled code, so the iteration count is not available.\u001b[39;00m\n\u001b[0;32m    285\u001b[0m     \u001b[38;5;28;01mif\u001b[39;00m \u001b[38;5;28mhasattr\u001b[39m(e, \u001b[38;5;124m\"\u001b[39m\u001b[38;5;124m_x\u001b[39m\u001b[38;5;124m\"\u001b[39m):\n",
      "File \u001b[1;32m~\\AppData\\Local\\Programs\\Python\\Python312\\Lib\\site-packages\\scipy\\optimize\\_zeros_py.py:802\u001b[0m, in \u001b[0;36mbrentq\u001b[1;34m(f, a, b, args, xtol, rtol, maxiter, full_output, disp)\u001b[0m\n\u001b[0;32m    800\u001b[0m     \u001b[38;5;28;01mraise\u001b[39;00m \u001b[38;5;167;01mValueError\u001b[39;00m(\u001b[38;5;124mf\u001b[39m\u001b[38;5;124m\"\u001b[39m\u001b[38;5;124mrtol too small (\u001b[39m\u001b[38;5;132;01m{\u001b[39;00mrtol\u001b[38;5;132;01m:\u001b[39;00m\u001b[38;5;124mg\u001b[39m\u001b[38;5;132;01m}\u001b[39;00m\u001b[38;5;124m < \u001b[39m\u001b[38;5;132;01m{\u001b[39;00m_rtol\u001b[38;5;132;01m:\u001b[39;00m\u001b[38;5;124mg\u001b[39m\u001b[38;5;132;01m}\u001b[39;00m\u001b[38;5;124m)\u001b[39m\u001b[38;5;124m\"\u001b[39m)\n\u001b[0;32m    801\u001b[0m f \u001b[38;5;241m=\u001b[39m _wrap_nan_raise(f)\n\u001b[1;32m--> 802\u001b[0m r \u001b[38;5;241m=\u001b[39m \u001b[43m_zeros\u001b[49m\u001b[38;5;241;43m.\u001b[39;49m\u001b[43m_brentq\u001b[49m\u001b[43m(\u001b[49m\u001b[43mf\u001b[49m\u001b[43m,\u001b[49m\u001b[43m \u001b[49m\u001b[43ma\u001b[49m\u001b[43m,\u001b[49m\u001b[43m \u001b[49m\u001b[43mb\u001b[49m\u001b[43m,\u001b[49m\u001b[43m \u001b[49m\u001b[43mxtol\u001b[49m\u001b[43m,\u001b[49m\u001b[43m \u001b[49m\u001b[43mrtol\u001b[49m\u001b[43m,\u001b[49m\u001b[43m \u001b[49m\u001b[43mmaxiter\u001b[49m\u001b[43m,\u001b[49m\u001b[43m \u001b[49m\u001b[43margs\u001b[49m\u001b[43m,\u001b[49m\u001b[43m \u001b[49m\u001b[43mfull_output\u001b[49m\u001b[43m,\u001b[49m\u001b[43m \u001b[49m\u001b[43mdisp\u001b[49m\u001b[43m)\u001b[49m\n\u001b[0;32m    803\u001b[0m \u001b[38;5;28;01mreturn\u001b[39;00m results_c(full_output, r)\n",
      "File \u001b[1;32m~\\AppData\\Local\\Programs\\Python\\Python312\\Lib\\site-packages\\scipy\\optimize\\_zeros_py.py:90\u001b[0m, in \u001b[0;36m_wrap_nan_raise.<locals>.f_raise\u001b[1;34m(x, *args)\u001b[0m\n\u001b[0;32m     89\u001b[0m \u001b[38;5;28;01mdef\u001b[39;00m \u001b[38;5;21mf_raise\u001b[39m(x, \u001b[38;5;241m*\u001b[39margs):\n\u001b[1;32m---> 90\u001b[0m     fx \u001b[38;5;241m=\u001b[39m \u001b[43mf\u001b[49m\u001b[43m(\u001b[49m\u001b[43mx\u001b[49m\u001b[43m,\u001b[49m\u001b[43m \u001b[49m\u001b[38;5;241;43m*\u001b[39;49m\u001b[43margs\u001b[49m\u001b[43m)\u001b[49m\n\u001b[0;32m     91\u001b[0m     f_raise\u001b[38;5;241m.\u001b[39m_function_calls \u001b[38;5;241m+\u001b[39m\u001b[38;5;241m=\u001b[39m \u001b[38;5;241m1\u001b[39m\n\u001b[0;32m     92\u001b[0m     \u001b[38;5;28;01mif\u001b[39;00m np\u001b[38;5;241m.\u001b[39misnan(fx):\n",
      "Cell \u001b[1;32mIn[55], line 3\u001b[0m, in \u001b[0;36mnumerical_eqmu\u001b[1;34m(X)\u001b[0m\n\u001b[0;32m      2\u001b[0m \u001b[38;5;28;01mdef\u001b[39;00m \u001b[38;5;21mnumerical_eqmu\u001b[39m(X):\n\u001b[1;32m----> 3\u001b[0m     \u001b[38;5;28;01mreturn\u001b[39;00m \u001b[43mfuncmu\u001b[49m\u001b[43m(\u001b[49m\u001b[43mX\u001b[49m\u001b[43m)\u001b[49m\n",
      "File \u001b[1;32m<lambdifygenerated-2>:2\u001b[0m, in \u001b[0;36m_lambdifygenerated\u001b[1;34m(_Dummy_76509)\u001b[0m\n\u001b[0;32m      1\u001b[0m \u001b[38;5;28;01mdef\u001b[39;00m \u001b[38;5;21m_lambdifygenerated\u001b[39m(_Dummy_76509):\n\u001b[1;32m----> 2\u001b[0m     \u001b[38;5;28;01mreturn\u001b[39;00m \u001b[38;5;241m2.46466632273666e-38\u001b[39m\u001b[38;5;241m*\u001b[39m_Dummy_76509\u001b[38;5;241m*\u001b[39m\u001b[38;5;241m*\u001b[39m\u001b[38;5;241m2\u001b[39m \u001b[38;5;241m+\u001b[39m \u001b[38;5;241m4.92858993261177e-55\u001b[39m\u001b[38;5;241m*\u001b[39m_Dummy_76509\u001b[38;5;241m*\u001b[39mexp(_Dummy_76509) \u001b[38;5;241m-\u001b[39m \u001b[38;5;241m3.13985115745104e-19\u001b[39m\u001b[38;5;241m*\u001b[39m_Dummy_76509\u001b[38;5;241m*\u001b[39m\u001b[43mlog\u001b[49m\u001b[43m(\u001b[49m\u001b[43mr\u001b[49m\u001b[43m)\u001b[49m \u001b[38;5;241m+\u001b[39m \u001b[38;5;241m3.25217707970716e-18\u001b[39m\u001b[38;5;241m*\u001b[39m_Dummy_76509 \u001b[38;5;241m+\u001b[39m \u001b[38;5;241m2.46392366582817e-72\u001b[39m\u001b[38;5;241m*\u001b[39mexp(\u001b[38;5;241m2\u001b[39m\u001b[38;5;241m*\u001b[39m_Dummy_76509) \u001b[38;5;241m-\u001b[39m \u001b[38;5;241m3.13937806950878e-36\u001b[39m\u001b[38;5;241m*\u001b[39mexp(_Dummy_76509)\u001b[38;5;241m*\u001b[39mlog(r) \u001b[38;5;241m+\u001b[39m \u001b[38;5;241m3.25168706738321e-35\u001b[39m\u001b[38;5;241m*\u001b[39mexp(_Dummy_76509) \u001b[38;5;241m+\u001b[39m \u001b[38;5;241m1.0\u001b[39m\u001b[38;5;241m*\u001b[39mlog(r)\u001b[38;5;241m*\u001b[39m\u001b[38;5;241m*\u001b[39m\u001b[38;5;241m2\u001b[39m \u001b[38;5;241m-\u001b[39m \u001b[38;5;241m20.7154856496274\u001b[39m\u001b[38;5;241m*\u001b[39mlog(r) \u001b[38;5;241m+\u001b[39m \u001b[38;5;241m107.28283642498\u001b[39m\n",
      "\u001b[1;31mTypeError\u001b[0m: loop of ufunc does not support argument 0 of type Symbol which has no callable log method"
     ]
    }
   ],
   "source": [
    "funcmu = smp.lambdify((mu), muSolu.lhs, 'numpy')\n",
    "def numerical_eqmu(X):\n",
    "    return funcmu(X)\n",
    "\n",
    "Guess=10**-13\n",
    "\n",
    "brentqmuSol = root_scalar(numerical_eqmu, bracket=[-Guess,Guess], method='brentq')\n",
    "muValue=brentqmuSol.root\n",
    "print('mu Value is',muValue)\n",
    "brentqmuSol"
   ]
  },
  {
   "cell_type": "code",
   "execution_count": null,
   "id": "62c6639e-e21b-460f-86b5-69cd9ed6a6c2",
   "metadata": {},
   "outputs": [],
   "source": []
  }
 ],
 "metadata": {
  "kernelspec": {
   "display_name": "Python 3 (ipykernel)",
   "language": "python",
   "name": "python3"
  },
  "language_info": {
   "codemirror_mode": {
    "name": "ipython",
    "version": 3
   },
   "file_extension": ".py",
   "mimetype": "text/x-python",
   "name": "python",
   "nbconvert_exporter": "python",
   "pygments_lexer": "ipython3",
   "version": "3.12.0"
  }
 },
 "nbformat": 4,
 "nbformat_minor": 5
}
